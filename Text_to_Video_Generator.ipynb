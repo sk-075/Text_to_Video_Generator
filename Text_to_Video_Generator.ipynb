{
  "nbformat": 4,
  "nbformat_minor": 0,
  "metadata": {
    "colab": {
      "provenance": [],
      "gpuType": "T4",
      "authorship_tag": "ABX9TyNa3/fT2wTy3TkWmo2cd3dH",
      "include_colab_link": true
    },
    "kernelspec": {
      "name": "python3",
      "display_name": "Python 3"
    },
    "language_info": {
      "name": "python"
    },
    "accelerator": "GPU"
  },
  "cells": [
    {
      "cell_type": "markdown",
      "metadata": {
        "id": "view-in-github",
        "colab_type": "text"
      },
      "source": [
        "<a href=\"https://colab.research.google.com/github/sk-075/Text_to_Video_Generator/blob/main/Text_to_Video_Generator.ipynb\" target=\"_parent\"><img src=\"https://colab.research.google.com/assets/colab-badge.svg\" alt=\"Open In Colab\"/></a>"
      ]
    },
    {
      "cell_type": "markdown",
      "source": [
        "**PHASE 1 : PROMPT ENHANCEMENT**"
      ],
      "metadata": {
        "id": "uNSb8aZ4VUwi"
      }
    },
    {
      "cell_type": "code",
      "execution_count": 113,
      "metadata": {
        "id": "LT5sH0gqXPZg"
      },
      "outputs": [],
      "source": [
        "import os\n",
        "\n",
        "os.environ[\"GITHUB_TOKEN\"] = \"\"         #Add your key here\n"
      ]
    },
    {
      "cell_type": "code",
      "source": [],
      "metadata": {
        "id": "9xMWA5JeVr-o"
      },
      "execution_count": 113,
      "outputs": []
    },
    {
      "cell_type": "code",
      "source": [
        "import os\n",
        "from openai import OpenAI\n",
        "\n",
        "token = os.environ[\"GITHUB_TOKEN\"]\n",
        "endpoint = \"https://models.github.ai/inference\"\n",
        "model = \"openai/gpt-4.1\"\n",
        "\n",
        "client = OpenAI(\n",
        "    base_url=endpoint,\n",
        "    api_key=token,\n",
        ")"
      ],
      "metadata": {
        "id": "b7UiSaNaSdZs"
      },
      "execution_count": 114,
      "outputs": []
    },
    {
      "cell_type": "code",
      "source": [
        "pip install openai"
      ],
      "metadata": {
        "colab": {
          "base_uri": "https://localhost:8080/"
        },
        "id": "4zoql7mwTw4c",
        "outputId": "517a1e0a-bc50-49e5-b14a-ef184d0a6bf3"
      },
      "execution_count": 115,
      "outputs": [
        {
          "output_type": "stream",
          "name": "stdout",
          "text": [
            "Requirement already satisfied: openai in /usr/local/lib/python3.11/dist-packages (1.91.0)\n",
            "Requirement already satisfied: anyio<5,>=3.5.0 in /usr/local/lib/python3.11/dist-packages (from openai) (4.9.0)\n",
            "Requirement already satisfied: distro<2,>=1.7.0 in /usr/local/lib/python3.11/dist-packages (from openai) (1.9.0)\n",
            "Requirement already satisfied: httpx<1,>=0.23.0 in /usr/local/lib/python3.11/dist-packages (from openai) (0.28.1)\n",
            "Requirement already satisfied: jiter<1,>=0.4.0 in /usr/local/lib/python3.11/dist-packages (from openai) (0.10.0)\n",
            "Requirement already satisfied: pydantic<3,>=1.9.0 in /usr/local/lib/python3.11/dist-packages (from openai) (2.11.7)\n",
            "Requirement already satisfied: sniffio in /usr/local/lib/python3.11/dist-packages (from openai) (1.3.1)\n",
            "Requirement already satisfied: tqdm>4 in /usr/local/lib/python3.11/dist-packages (from openai) (4.67.1)\n",
            "Requirement already satisfied: typing-extensions<5,>=4.11 in /usr/local/lib/python3.11/dist-packages (from openai) (4.14.0)\n",
            "Requirement already satisfied: idna>=2.8 in /usr/local/lib/python3.11/dist-packages (from anyio<5,>=3.5.0->openai) (3.10)\n",
            "Requirement already satisfied: certifi in /usr/local/lib/python3.11/dist-packages (from httpx<1,>=0.23.0->openai) (2025.6.15)\n",
            "Requirement already satisfied: httpcore==1.* in /usr/local/lib/python3.11/dist-packages (from httpx<1,>=0.23.0->openai) (1.0.9)\n",
            "Requirement already satisfied: h11>=0.16 in /usr/local/lib/python3.11/dist-packages (from httpcore==1.*->httpx<1,>=0.23.0->openai) (0.16.0)\n",
            "Requirement already satisfied: annotated-types>=0.6.0 in /usr/local/lib/python3.11/dist-packages (from pydantic<3,>=1.9.0->openai) (0.7.0)\n",
            "Requirement already satisfied: pydantic-core==2.33.2 in /usr/local/lib/python3.11/dist-packages (from pydantic<3,>=1.9.0->openai) (2.33.2)\n",
            "Requirement already satisfied: typing-inspection>=0.4.0 in /usr/local/lib/python3.11/dist-packages (from pydantic<3,>=1.9.0->openai) (0.4.1)\n"
          ]
        }
      ]
    },
    {
      "cell_type": "code",
      "source": [
        "import openai\n",
        "\n",
        "\n",
        "# Step 1: Prompt Input System\n",
        "def get_user_prompt():\n",
        "    print(\"🎯 Enter the concept you'd like to animate using Manim:\")\n",
        "    return input(\"📝 Your prompt: \")\n",
        "\n",
        "# Step 2: Enhance Prompt using ChatGPT API (RISE format)\n",
        "def enhance_prompt_rise(raw_prompt):\n",
        "    system_message = {\n",
        "        \"role\": \"system\",\n",
        "        \"content\": \"You are a world-class prompt engineer that enhances user input to make it precise and structured using RISE format.\"\n",
        "    }\n",
        "\n",
        "    user_message = {\n",
        "        \"role\": \"user\",\n",
        "        \"content\": f\"\"\"\n",
        "Given the raw input: \"{raw_prompt}\"\n",
        "You are a Prompt Enhancer Module, integrated into a larger system designed to help users generate precise, high-quality prompts for large language models (LLMs). Your task is to take a raw, vague, or under-specified user prompt and transform it into a detailed, structured, and optimized prompt that clearly conveys the user’s intent and improves the quality of the LLM’s response.\n",
        "\n",
        "Follow the instructions below strictly to generate the enhanced prompt.\n",
        "\n",
        "🔧 Instructions:\n",
        "Interpret the User Intent:\n",
        "Analyze the raw prompt to understand what the user is asking or intending to do. Identify the task, context, and any implied objectives.\n",
        "\n",
        "Fill in Missing Context (if necessary):\n",
        "If the original prompt is ambiguous or lacks context, intelligently infer or suggest missing pieces that can improve the quality of the generated response.\n",
        "\n",
        "Reframe the Prompt in a Professional and Precise Format:\n",
        "Use complete sentences, proper structure, and domain-appropriate terminology. Avoid overly casual or vague language.\n",
        "\n",
        "Use a Prompt Optimization Template (choose the most appropriate based on the intent):\n",
        "\n",
        "RISE Format (Role, Instruction, Steps, Expectation) for structured tasks.\n",
        "\n",
        "RTF Format (Role, Task, Format) for simple goal-directed tasks.\n",
        "\n",
        "Custom-enhanced version for creative or exploratory tasks.\n",
        "\n",
        "Ensure Clarity and Completeness:\n",
        "Your output must be unambiguous and self-contained so that any LLM can process it without needing additional clarification.\n",
        "\n",
        "Output Only the Final Enhanced Prompt.\n",
        "Do not explain your reasoning or repeat the original prompt.\n",
        "\"\"\"\n",
        "    }\n",
        "\n",
        "    response = client.chat.completions.create(\n",
        "        messages=[system_message, user_message],\n",
        "        temperature=0.0,\n",
        "        top_p=1.0,\n",
        "        model=model\n",
        "    )\n",
        "\n",
        "    return response.choices[0].message.content\n",
        "\n",
        "# Main Pipeline\n",
        "if __name__ == \"__main__\":\n",
        "    raw_prompt = get_user_prompt()\n",
        "    enhanced_prompt = enhance_prompt_rise(raw_prompt)\n",
        "\n",
        "    print(\"\\n🔍 Enhanced Prompt (RISE Format):\\n\")\n",
        "    print(enhanced_prompt)\n"
      ],
      "metadata": {
        "colab": {
          "base_uri": "https://localhost:8080/"
        },
        "id": "DrBAUa-pTX0p",
        "outputId": "66fad1c3-bdf0-4cd1-c41a-8c445daaaad5"
      },
      "execution_count": 116,
      "outputs": [
        {
          "output_type": "stream",
          "name": "stdout",
          "text": [
            "🎯 Enter the concept you'd like to animate using Manim:\n",
            "📝 Your prompt: explain pythagoras theorum\n",
            "\n",
            "🔍 Enhanced Prompt (RISE Format):\n",
            "\n",
            "Role: Mathematics Educator\n",
            "\n",
            "Instruction: Provide a clear and comprehensive explanation of the Pythagorean Theorem, including its statement, significance, and a practical example demonstrating its use.\n",
            "\n",
            "Steps:\n",
            "1. Define the Pythagorean Theorem and specify the types of triangles to which it applies.\n",
            "2. State the theorem formally using mathematical notation.\n",
            "3. Explain the significance and common applications of the theorem in mathematics and real-life scenarios.\n",
            "4. Provide a step-by-step example problem that illustrates how to use the theorem to find the length of a side in a right-angled triangle, including all necessary calculations.\n",
            "\n",
            "Expectation: The response should be detailed, accurate, and accessible to someone with a basic understanding of geometry. All mathematical terms should be clearly defined, and the example should be easy to follow.\n"
          ]
        }
      ]
    },
    {
      "cell_type": "markdown",
      "source": [
        "**PHASE 2 : MANIM CODE GENERATION**"
      ],
      "metadata": {
        "id": "e9iBIDWfVQ3n"
      }
    },
    {
      "cell_type": "code",
      "source": [
        "!apt update\n",
        "!apt install -y libcairo2-dev libpango1.0-dev ffmpeg\n",
        "\n"
      ],
      "metadata": {
        "colab": {
          "base_uri": "https://localhost:8080/"
        },
        "id": "uWBd1c-ZWvm5",
        "outputId": "e6470926-ad7d-421b-c210-0de97db1a88f"
      },
      "execution_count": 117,
      "outputs": [
        {
          "output_type": "stream",
          "name": "stdout",
          "text": [
            "\u001b[33m\r0% [Working]\u001b[0m\r            \rHit:1 https://cloud.r-project.org/bin/linux/ubuntu jammy-cran40/ InRelease\n",
            "Hit:2 https://developer.download.nvidia.com/compute/cuda/repos/ubuntu2204/x86_64  InRelease\n",
            "Hit:3 http://security.ubuntu.com/ubuntu jammy-security InRelease\n",
            "Hit:4 http://archive.ubuntu.com/ubuntu jammy InRelease\n",
            "Hit:5 http://archive.ubuntu.com/ubuntu jammy-updates InRelease\n",
            "Hit:6 https://ppa.launchpadcontent.net/deadsnakes/ppa/ubuntu jammy InRelease\n",
            "Hit:7 http://archive.ubuntu.com/ubuntu jammy-backports InRelease\n",
            "Hit:8 https://ppa.launchpadcontent.net/graphics-drivers/ppa/ubuntu jammy InRelease\n",
            "Hit:9 https://ppa.launchpadcontent.net/ubuntugis/ppa/ubuntu jammy InRelease\n",
            "Hit:10 https://r2u.stat.illinois.edu/ubuntu jammy InRelease\n",
            "Reading package lists... Done\n",
            "Building dependency tree... Done\n",
            "Reading state information... Done\n",
            "36 packages can be upgraded. Run 'apt list --upgradable' to see them.\n",
            "\u001b[1;33mW: \u001b[0mSkipping acquire of configured file 'main/source/Sources' as repository 'https://r2u.stat.illinois.edu/ubuntu jammy InRelease' does not seem to provide it (sources.list entry misspelt?)\u001b[0m\n",
            "Reading package lists... Done\n",
            "Building dependency tree... Done\n",
            "Reading state information... Done\n",
            "libcairo2-dev is already the newest version (1.16.0-5ubuntu2).\n",
            "libpango1.0-dev is already the newest version (1.50.6+ds-2ubuntu1).\n",
            "ffmpeg is already the newest version (7:4.4.2-0ubuntu0.22.04.1).\n",
            "0 upgraded, 0 newly installed, 0 to remove and 36 not upgraded.\n"
          ]
        }
      ]
    },
    {
      "cell_type": "code",
      "source": [
        "!pip install manim\n"
      ],
      "metadata": {
        "colab": {
          "base_uri": "https://localhost:8080/"
        },
        "id": "axbV6PO1W5Fd",
        "outputId": "1f9ea088-8bb9-4426-e0e9-197109383ee9"
      },
      "execution_count": 118,
      "outputs": [
        {
          "output_type": "stream",
          "name": "stdout",
          "text": [
            "Requirement already satisfied: manim in /usr/local/lib/python3.11/dist-packages (0.19.0)\n",
            "Requirement already satisfied: Pillow>=9.1 in /usr/local/lib/python3.11/dist-packages (from manim) (11.2.1)\n",
            "Requirement already satisfied: Pygments>=2.0.0 in /usr/local/lib/python3.11/dist-packages (from manim) (2.19.2)\n",
            "Requirement already satisfied: av<14.0.0,>=9.0.0 in /usr/local/lib/python3.11/dist-packages (from manim) (13.1.0)\n",
            "Requirement already satisfied: beautifulsoup4>=4.12 in /usr/local/lib/python3.11/dist-packages (from manim) (4.13.4)\n",
            "Requirement already satisfied: click>=8.0 in /usr/local/lib/python3.11/dist-packages (from manim) (8.1.8)\n",
            "Requirement already satisfied: cloup>=2.0.0 in /usr/local/lib/python3.11/dist-packages (from manim) (3.0.7)\n",
            "Requirement already satisfied: decorator>=4.3.2 in /usr/local/lib/python3.11/dist-packages (from manim) (4.4.2)\n",
            "Requirement already satisfied: isosurfaces>=0.1.0 in /usr/local/lib/python3.11/dist-packages (from manim) (0.1.2)\n",
            "Requirement already satisfied: manimpango<1.0.0,>=0.5.0 in /usr/local/lib/python3.11/dist-packages (from manim) (0.6.0)\n",
            "Requirement already satisfied: mapbox-earcut>=1.0.0 in /usr/local/lib/python3.11/dist-packages (from manim) (1.0.3)\n",
            "Requirement already satisfied: moderngl<6.0.0,>=5.0.0 in /usr/local/lib/python3.11/dist-packages (from manim) (5.12.0)\n",
            "Requirement already satisfied: moderngl-window>=2.0.0 in /usr/local/lib/python3.11/dist-packages (from manim) (3.1.1)\n",
            "Requirement already satisfied: networkx>=2.6 in /usr/local/lib/python3.11/dist-packages (from manim) (3.5)\n",
            "Requirement already satisfied: numpy>=2.1 in /usr/local/lib/python3.11/dist-packages (from manim) (2.3.1)\n",
            "Requirement already satisfied: pycairo<2.0.0,>=1.13 in /usr/local/lib/python3.11/dist-packages (from manim) (1.28.0)\n",
            "Requirement already satisfied: pydub>=0.20.0 in /usr/local/lib/python3.11/dist-packages (from manim) (0.25.1)\n",
            "Requirement already satisfied: rich>=12.0.0 in /usr/local/lib/python3.11/dist-packages (from manim) (13.9.4)\n",
            "Requirement already satisfied: scipy>=1.13.0 in /usr/local/lib/python3.11/dist-packages (from manim) (1.15.3)\n",
            "Requirement already satisfied: screeninfo>=0.7 in /usr/local/lib/python3.11/dist-packages (from manim) (0.8.1)\n",
            "Requirement already satisfied: skia-pathops>=0.7.0 in /usr/local/lib/python3.11/dist-packages (from manim) (0.8.0.post2)\n",
            "Requirement already satisfied: srt>=3.0.0 in /usr/local/lib/python3.11/dist-packages (from manim) (3.5.3)\n",
            "Requirement already satisfied: svgelements>=1.8.0 in /usr/local/lib/python3.11/dist-packages (from manim) (1.9.6)\n",
            "Requirement already satisfied: tqdm>=4.0.0 in /usr/local/lib/python3.11/dist-packages (from manim) (4.67.1)\n",
            "Requirement already satisfied: typing-extensions>=4.0.0 in /usr/local/lib/python3.11/dist-packages (from manim) (4.14.0)\n",
            "Requirement already satisfied: watchdog>=2.0.0 in /usr/local/lib/python3.11/dist-packages (from manim) (6.0.0)\n",
            "Requirement already satisfied: soupsieve>1.2 in /usr/local/lib/python3.11/dist-packages (from beautifulsoup4>=4.12->manim) (2.7)\n",
            "Requirement already satisfied: glcontext>=3.0.0 in /usr/local/lib/python3.11/dist-packages (from moderngl<6.0.0,>=5.0.0->manim) (3.0.0)\n",
            "Requirement already satisfied: pyglet>=2.0.0 in /usr/local/lib/python3.11/dist-packages (from moderngl-window>=2.0.0->manim) (2.1.6)\n",
            "Requirement already satisfied: pyglm<3,>=2.7.0 in /usr/local/lib/python3.11/dist-packages (from moderngl-window>=2.0.0->manim) (2.8.2)\n",
            "Requirement already satisfied: markdown-it-py>=2.2.0 in /usr/local/lib/python3.11/dist-packages (from rich>=12.0.0->manim) (3.0.0)\n",
            "Requirement already satisfied: mdurl~=0.1 in /usr/local/lib/python3.11/dist-packages (from markdown-it-py>=2.2.0->rich>=12.0.0->manim) (0.1.2)\n"
          ]
        }
      ]
    },
    {
      "cell_type": "code",
      "source": [
        "%%writefile example.py\n",
        "from manim import *\n",
        "\n",
        "class HelloWorld(Scene):\n",
        "    def construct(self):\n",
        "        text = Text(\"Hello, Manim on Colab!\")\n",
        "        self.play(Write(text))\n"
      ],
      "metadata": {
        "colab": {
          "base_uri": "https://localhost:8080/"
        },
        "id": "ozJyOW7OXSt3",
        "outputId": "e66310d4-5bf8-4667-b257-03b5b3b97169"
      },
      "execution_count": 119,
      "outputs": [
        {
          "output_type": "stream",
          "name": "stdout",
          "text": [
            "Overwriting example.py\n"
          ]
        }
      ]
    },
    {
      "cell_type": "code",
      "source": [
        "!manim -pql example.py HelloWorld\n"
      ],
      "metadata": {
        "colab": {
          "base_uri": "https://localhost:8080/"
        },
        "id": "hnCKAtukX2YI",
        "outputId": "cba8ec3b-2d3e-4a6c-f2c4-d7af57120fab"
      },
      "execution_count": 120,
      "outputs": [
        {
          "output_type": "stream",
          "name": "stdout",
          "text": [
            "Manim Community \u001b[32mv0.\u001b[0m\u001b[32m19.0\u001b[0m\n",
            "\n",
            "\u001b[2;36m[06/28/25 07:24:32]\u001b[0m\u001b[2;36m \u001b[0m\u001b[32mINFO    \u001b[0m Animation \u001b[32m0\u001b[0m : Using cached     \u001b]8;id=257203;file:///usr/local/lib/python3.11/dist-packages/manim/renderer/cairo_renderer.py\u001b\\\u001b[2mcairo_renderer.py\u001b[0m\u001b]8;;\u001b\\\u001b[2m:\u001b[0m\u001b]8;id=229384;file:///usr/local/lib/python3.11/dist-packages/manim/renderer/cairo_renderer.py#89\u001b\\\u001b[2m89\u001b[0m\u001b]8;;\u001b\\\n",
            "\u001b[2;36m                    \u001b[0m         data \u001b[1m(\u001b[0mhash :                   \u001b[2m                    \u001b[0m\n",
            "\u001b[2;36m                    \u001b[0m         1185818338_3587315122_22313245 \u001b[2m                    \u001b[0m\n",
            "\u001b[2;36m                    \u001b[0m         7\u001b[1m)\u001b[0m                             \u001b[2m                    \u001b[0m\n",
            "\u001b[2;36m                   \u001b[0m\u001b[2;36m \u001b[0m\u001b[32mINFO    \u001b[0m Combining to Movie file.   \u001b]8;id=38568;file:///usr/local/lib/python3.11/dist-packages/manim/scene/scene_file_writer.py\u001b\\\u001b[2mscene_file_writer.py\u001b[0m\u001b]8;;\u001b\\\u001b[2m:\u001b[0m\u001b]8;id=712631;file:///usr/local/lib/python3.11/dist-packages/manim/scene/scene_file_writer.py#739\u001b\\\u001b[2m739\u001b[0m\u001b]8;;\u001b\\\n",
            "\u001b[2;36m                   \u001b[0m\u001b[2;36m \u001b[0m\u001b[32mINFO    \u001b[0m                            \u001b]8;id=682873;file:///usr/local/lib/python3.11/dist-packages/manim/scene/scene_file_writer.py\u001b\\\u001b[2mscene_file_writer.py\u001b[0m\u001b]8;;\u001b\\\u001b[2m:\u001b[0m\u001b]8;id=494095;file:///usr/local/lib/python3.11/dist-packages/manim/scene/scene_file_writer.py#886\u001b\\\u001b[2m886\u001b[0m\u001b]8;;\u001b\\\n",
            "\u001b[2;36m                    \u001b[0m         \u001b[1;33mFile\u001b[0m ready at              \u001b[2m                        \u001b[0m\n",
            "\u001b[2;36m                    \u001b[0m         \u001b[32m'/content/media/videos/exa\u001b[0m \u001b[2m                        \u001b[0m\n",
            "\u001b[2;36m                    \u001b[0m         \u001b[32mmple/480p15/HelloWorld.mp4\u001b[0m \u001b[2m                        \u001b[0m\n",
            "\u001b[2;36m                    \u001b[0m         \u001b[32m'\u001b[0m                          \u001b[2m                        \u001b[0m\n",
            "\u001b[2;36m                    \u001b[0m                                    \u001b[2m                        \u001b[0m\n",
            "\u001b[2;36m                   \u001b[0m\u001b[2;36m \u001b[0m\u001b[32mINFO    \u001b[0m \u001b[1;33mRendered\u001b[0m HelloWorld                    \u001b]8;id=401345;file:///usr/local/lib/python3.11/dist-packages/manim/scene/scene.py\u001b\\\u001b[2mscene.py\u001b[0m\u001b]8;;\u001b\\\u001b[2m:\u001b[0m\u001b]8;id=570883;file:///usr/local/lib/python3.11/dist-packages/manim/scene/scene.py#255\u001b\\\u001b[2m255\u001b[0m\u001b]8;;\u001b\\\n",
            "\u001b[2;36m                    \u001b[0m         \u001b[1;33mPlayed\u001b[0m \u001b[32m1\u001b[0m \u001b[1;33manimations\u001b[0m                    \u001b[2m            \u001b[0m\n",
            "Error: no \"view\" mailcap rules found for type \"video/mp4\"\n",
            "/usr/bin/xdg-open: 882: www-browser: not found\n",
            "/usr/bin/xdg-open: 882: links2: not found\n",
            "/usr/bin/xdg-open: 882: elinks: not found\n",
            "/usr/bin/xdg-open: 882: links: not found\n",
            "/usr/bin/xdg-open: 882: lynx: not found\n",
            "/usr/bin/xdg-open: 882: w3m: not found\n",
            "xdg-open: no method available for opening '/content/media/videos/example/480p15/HelloWorld.mp4'\n",
            "\u001b[2;36m                   \u001b[0m\u001b[2;36m \u001b[0m\u001b[32mINFO    \u001b[0m Previewed \u001b[1;33mFile\u001b[0m at:                  \u001b]8;id=576943;file:///usr/local/lib/python3.11/dist-packages/manim/utils/file_ops.py\u001b\\\u001b[2mfile_ops.py\u001b[0m\u001b]8;;\u001b\\\u001b[2m:\u001b[0m\u001b]8;id=158508;file:///usr/local/lib/python3.11/dist-packages/manim/utils/file_ops.py#237\u001b\\\u001b[2m237\u001b[0m\u001b]8;;\u001b\\\n",
            "\u001b[2;36m                    \u001b[0m         \u001b[32m'/content/media/videos/example/480p\u001b[0m \u001b[2m               \u001b[0m\n",
            "\u001b[2;36m                    \u001b[0m         \u001b[32m15/HelloWorld.mp4'\u001b[0m                  \u001b[2m               \u001b[0m\n"
          ]
        }
      ]
    },
    {
      "cell_type": "code",
      "source": [
        "from IPython.display import Video\n",
        "Video(\"media/videos/example/480p15/HelloWorld.mp4\")\n"
      ],
      "metadata": {
        "colab": {
          "resources": {
            "http://localhost:8080/media/videos/example/480p15/HelloWorld.mp4": {
              "data": "",
              "ok": false,
              "headers": [
                [
                  "content-length",
                  "0"
                ]
              ],
              "status": 404,
              "status_text": ""
            }
          },
          "base_uri": "https://localhost:8080/",
          "height": 171
        },
        "id": "P4ERyG7FYI5L",
        "outputId": "8926fee4-4b63-4bf5-dc7f-01457cd6cccd"
      },
      "execution_count": 121,
      "outputs": [
        {
          "output_type": "execute_result",
          "data": {
            "text/plain": [
              "<IPython.core.display.Video object>"
            ],
            "text/html": [
              "<video src=\"media/videos/example/480p15/HelloWorld.mp4\" controls  >\n",
              "      Your browser does not support the <code>video</code> element.\n",
              "    </video>"
            ]
          },
          "metadata": {},
          "execution_count": 121
        }
      ]
    },
    {
      "cell_type": "code",
      "source": [],
      "metadata": {
        "id": "Acw9Jx2ML1RV"
      },
      "execution_count": 121,
      "outputs": []
    },
    {
      "cell_type": "code",
      "source": [
        "from IPython.display import Markdown\n",
        "\n",
        "def generate_manim_code_from_enhanced_prompt(enhanced_prompt):\n",
        "    system_message = {\n",
        "        \"role\": \"system\",\n",
        "        \"content\": \"You are an expert Manim animator and Python developer. Generate code that works with the latest Manim Community Edition.\"\n",
        "    }\n",
        "\n",
        "    user_message = {\n",
        "        \"role\": \"user\",\n",
        "        \"content\": f\"\"\"\n",
        "Using the following enhanced prompt, generate Manim Python code that visually explains the concept. Focus on clarity, accuracy, and following instructions in the RISE structure.\n",
        "\n",
        "    Enhanced Prompt:\n",
        "    {enhanced_prompt}\n",
        "    You are an expert Python and Manim developer. Your task is to generate clean, functional Manim Community Edition (v0.19.0+) code that visually explains a concept.\n",
        "    1. A narration script for a 5–10 minute video.\n",
        "    2. Divide the script into 6–10 logical scenes.\n",
        "    3. For each scene, give:\n",
        "        - Narration (as plain text)\n",
        "        - What visuals should appear\n",
        "        - Which labels, shapes, or transformations to show\n",
        "    4. Don't write text on previous text in video\n",
        "    5. write the text content within the boundaries\n",
        "    6. separately draw images and generate text in video\n",
        "    7. Don't draw shapes on the previous shapes .Generate shapes next to other shapes.\n",
        "\n",
        "    Please follow these instructions:\n",
        "\n",
        "    1. Carefully analyze the enhanced prompt below and follow each instruction.\n",
        "    2. Do NOT use MathTex or Tex (LaTeX-based objects). Use `Text` instead for all labels, formulas, and explanations, since LaTeX is not available in all environments.\n",
        "    3. Make sure the code can run **without requiring LaTeX** (important for Google Colab and containerized environments).\n",
        "    4. Validate that all objects used (`Text`, `Line`, `Square`, `Triangle`, `Arrow`, etc.) are defined before use.\n",
        "    5. The code must be fully executable using Manim CLI: `manim -pql file.py SceneClass`\n",
        "    6. Only output the raw Python code without extra text or explanation.\n",
        "    7. Use Manim's latest syntax (e.g., from manim import *).\n",
        "    8. Define a single Scene class, such as PythagoreanTheoremScene.\n",
        "    9. Add labels, transformations, and area comparisons if applicable.\n",
        "    10. Keep code self-contained and ready to run.\n",
        "    11. Do NOT include triple backticks or explanations, just the raw code.\n",
        "    12. Carefully work on every frame on every second --- \"\"\"\n",
        "\n",
        "    }\n",
        "    response = client.chat.completions.create(\n",
        "        messages=[system_message, user_message],\n",
        "        temperature=0.0,\n",
        "        top_p=1.0,\n",
        "        model=model\n",
        "    )\n",
        "\n",
        "    return response.choices[0].message.content\n",
        "\n",
        "\n",
        "# Example: Run with manually passed enhanced prompt\n",
        "if __name__ == \"__main__\":\n",
        "\n",
        "    manim_code = generate_manim_code_from_enhanced_prompt(enhanced_prompt)\n",
        "    with open(\"pythagoras_scene.py\", \"w\") as f:\n",
        "        f.write(manim_code)\n",
        "\n",
        "    print(\"\\n✅ Manim code successfully written to `pythagoras_scene.py`!\")\n"
      ],
      "metadata": {
        "colab": {
          "base_uri": "https://localhost:8080/"
        },
        "id": "k9GoGn0SVOUy",
        "outputId": "bbd02fa5-38db-4a00-8011-4103780fbe67"
      },
      "execution_count": 122,
      "outputs": [
        {
          "output_type": "stream",
          "name": "stdout",
          "text": [
            "\n",
            "✅ Manim code successfully written to `pythagoras_scene.py`!\n"
          ]
        }
      ]
    },
    {
      "cell_type": "code",
      "source": [
        "\n",
        "\n",
        "# Read the Manim script\n",
        "with open(\"pythagoras_scene.py\", \"r\") as file:\n",
        "    manim_code = file.read()\n",
        "\n",
        "# Format and display using Markdown (adds syntax highlighting)\n",
        "def display_code_as_markdown(code):\n",
        "    markdown_code = f\"```python\\n{code}\\n```\"\n",
        "    return Markdown(markdown_code)\n",
        "\n",
        "display_code_as_markdown(manim_code)\n"
      ],
      "metadata": {
        "colab": {
          "base_uri": "https://localhost:8080/",
          "height": 1000
        },
        "id": "acX74rx0cDY1",
        "outputId": "7cdba393-a0cb-4027-db69-b2c0fcfe437f"
      },
      "execution_count": 123,
      "outputs": [
        {
          "output_type": "execute_result",
          "data": {
            "text/plain": [
              "<IPython.core.display.Markdown object>"
            ],
            "text/markdown": "```python\nfrom manim import *\n\nclass PythagoreanTheoremScene(Scene):\n    def construct(self):\n        # Scene 1: Introduction\n        intro_title = Text(\"The Pythagorean Theorem\", font_size=48)\n        intro_sub = Text(\"A Fundamental Principle in Geometry\", font_size=32).next_to(intro_title, DOWN)\n        self.play(FadeIn(intro_title))\n        self.wait(1)\n        self.play(FadeIn(intro_sub))\n        self.wait(2)\n        self.play(FadeOut(intro_title), FadeOut(intro_sub))\n\n        # Scene 2: Definition and Triangle Types\n        def_title = Text(\"Definition\", font_size=40).to_edge(UP)\n        def_text = Text(\n            \"The Pythagorean Theorem applies only to right-angled triangles.\",\n            font_size=28\n        ).next_to(def_title, DOWN)\n        triangle = Polygon(\n            [0, 0, 0], [3, 0, 0], [0, 2, 0],\n            color=BLUE\n        ).shift(LEFT * 3)\n        right_angle = Square(0.3, color=YELLOW, fill_opacity=1).move_to([0.3, 0.3, 0]).shift(LEFT * 3)\n        label_a = Text(\"a\", font_size=28).next_to([1.5, 0, 0], DOWN).shift(LEFT * 3)\n        label_b = Text(\"b\", font_size=28).next_to([0, 1, 0], LEFT).shift(LEFT * 3)\n        label_c = Text(\"c\", font_size=28).next_to([1.2, 0.8, 0], UP + RIGHT).shift(LEFT * 3)\n        self.play(FadeIn(def_title), FadeIn(def_text))\n        self.wait(1)\n        self.play(Create(triangle))\n        self.play(FadeIn(right_angle))\n        self.play(FadeIn(label_a), FadeIn(label_b), FadeIn(label_c))\n        self.wait(2)\n        self.play(FadeOut(def_title), FadeOut(def_text), FadeOut(triangle), FadeOut(right_angle), FadeOut(label_a), FadeOut(label_b), FadeOut(label_c))\n\n        # Scene 3: Formal Statement\n        stmt_title = Text(\"Formal Statement\", font_size=40).to_edge(UP)\n        stmt_text = Text(\n            \"In a right-angled triangle, the square of the hypotenuse\\n\"\n            \"is equal to the sum of the squares of the other two sides.\",\n            font_size=28\n        ).next_to(stmt_title, DOWN)\n        formula = Text(\"c² = a² + b²\", font_size=44, color=YELLOW).next_to(stmt_text, DOWN)\n        self.play(FadeIn(stmt_title), FadeIn(stmt_text))\n        self.wait(1)\n        self.play(FadeIn(formula))\n        self.wait(2)\n        self.play(FadeOut(stmt_title), FadeOut(stmt_text), FadeOut(formula))\n\n        # Scene 4: Significance and Applications\n        sig_title = Text(\"Significance & Applications\", font_size=40).to_edge(UP)\n        sig_text = Text(\n            \"The Pythagorean Theorem is used to:\\n\"\n            \"- Calculate distances\\n\"\n            \"- Design buildings\\n\"\n            \"- Solve navigation problems\\n\"\n            \"- Analyze real-life right triangles\",\n            font_size=28\n        ).next_to(sig_title, DOWN)\n        self.play(FadeIn(sig_title), FadeIn(sig_text))\n        self.wait(3)\n        self.play(FadeOut(sig_title), FadeOut(sig_text))\n\n        # Scene 5: Example Problem Setup\n        ex_title = Text(\"Example Problem\", font_size=40).to_edge(UP)\n        ex_text = Text(\n            \"Given a right-angled triangle with sides:\\n\"\n            \"a = 3 units, b = 4 units\\n\"\n            \"Find the length of the hypotenuse c.\",\n            font_size=28\n        ).next_to(ex_title, DOWN)\n        ex_triangle = Polygon(\n            [0, 0, 0], [3, 0, 0], [0, 4, 0],\n            color=GREEN\n        ).shift(LEFT * 3)\n        ex_right_angle = Square(0.3, color=YELLOW, fill_opacity=1).move_to([0.3, 0.3, 0]).shift(LEFT * 3)\n        ex_label_a = Text(\"a = 3\", font_size=28).next_to([1.5, 0, 0], DOWN).shift(LEFT * 3)\n        ex_label_b = Text(\"b = 4\", font_size=28).next_to([0, 2, 0], LEFT).shift(LEFT * 3)\n        ex_label_c = Text(\"c = ?\", font_size=28).next_to([1.2, 1.5, 0], UP + RIGHT).shift(LEFT * 3)\n        self.play(FadeIn(ex_title), FadeIn(ex_text))\n        self.wait(1)\n        self.play(Create(ex_triangle))\n        self.play(FadeIn(ex_right_angle))\n        self.play(FadeIn(ex_label_a), FadeIn(ex_label_b), FadeIn(ex_label_c))\n        self.wait(2)\n        self.play(FadeOut(ex_title), FadeOut(ex_text), FadeOut(ex_triangle), FadeOut(ex_right_angle), FadeOut(ex_label_a), FadeOut(ex_label_b), FadeOut(ex_label_c))\n\n        # Scene 6: Step-by-Step Solution\n        sol_title = Text(\"Step-by-Step Solution\", font_size=40).to_edge(UP)\n        step1 = Text(\"Step 1: Write the formula\", font_size=28).next_to(sol_title, DOWN)\n        formula2 = Text(\"c² = a² + b²\", font_size=36, color=YELLOW).next_to(step1, DOWN)\n        self.play(FadeIn(sol_title), FadeIn(step1))\n        self.wait(1)\n        self.play(FadeIn(formula2))\n        self.wait(1)\n        self.play(FadeOut(step1), FadeOut(formula2))\n\n        step2 = Text(\"Step 2: Substitute the values\", font_size=28).next_to(sol_title, DOWN)\n        sub_formula = Text(\"c² = 3² + 4²\", font_size=36, color=YELLOW).next_to(step2, DOWN)\n        self.play(FadeIn(step2))\n        self.wait(1)\n        self.play(FadeIn(sub_formula))\n        self.wait(1)\n        self.play(FadeOut(step2), FadeOut(sub_formula))\n\n        step3 = Text(\"Step 3: Calculate the squares\", font_size=28).next_to(sol_title, DOWN)\n        calc_formula = Text(\"c² = 9 + 16\", font_size=36, color=YELLOW).next_to(step3, DOWN)\n        self.play(FadeIn(step3))\n        self.wait(1)\n        self.play(FadeIn(calc_formula))\n        self.wait(1)\n        self.play(FadeOut(step3), FadeOut(calc_formula))\n\n        step4 = Text(\"Step 4: Add the results\", font_size=28).next_to(sol_title, DOWN)\n        add_formula = Text(\"c² = 25\", font_size=36, color=YELLOW).next_to(step4, DOWN)\n        self.play(FadeIn(step4))\n        self.wait(1)\n        self.play(FadeIn(add_formula))\n        self.wait(1)\n        self.play(FadeOut(step4), FadeOut(add_formula))\n\n        step5 = Text(\"Step 5: Take the square root\", font_size=28).next_to(sol_title, DOWN)\n        sqrt_formula = Text(\"c = 5\", font_size=36, color=YELLOW).next_to(step5, DOWN)\n        self.play(FadeIn(step5))\n        self.wait(1)\n        self.play(FadeIn(sqrt_formula))\n        self.wait(2)\n        self.play(FadeOut(step5), FadeOut(sqrt_formula), FadeOut(sol_title))\n\n        # Scene 7: Visual Confirmation\n        conf_title = Text(\"Visual Confirmation\", font_size=40).to_edge(UP)\n        conf_triangle = Polygon(\n            [0, 0, 0], [3, 0, 0], [0, 4, 0],\n            color=PURPLE\n        ).shift(LEFT * 3)\n        conf_right_angle = Square(0.3, color=YELLOW, fill_opacity=1).move_to([0.3, 0.3, 0]).shift(LEFT * 3)\n        conf_label_a = Text(\"a = 3\", font_size=28).next_to([1.5, 0, 0], DOWN).shift(LEFT * 3)\n        conf_label_b = Text(\"b = 4\", font_size=28).next_to([0, 2, 0], LEFT).shift(LEFT * 3)\n        conf_label_c = Text(\"c = 5\", font_size=28).next_to([1.2, 1.5, 0], UP + RIGHT).shift(LEFT * 3)\n        self.play(FadeIn(conf_title))\n        self.play(Create(conf_triangle))\n        self.play(FadeIn(conf_right_angle))\n        self.play(FadeIn(conf_label_a), FadeIn(conf_label_b), FadeIn(conf_label_c))\n        self.wait(2)\n        self.play(FadeOut(conf_title), FadeOut(conf_triangle), FadeOut(conf_right_angle), FadeOut(conf_label_a), FadeOut(conf_label_b), FadeOut(conf_label_c))\n\n        # Scene 8: Summary\n        sum_title = Text(\"Summary\", font_size=40).to_edge(UP)\n        sum_text = Text(\n            \"The Pythagorean Theorem relates the sides of a right-angled triangle:\\n\"\n            \"c² = a² + b²\\n\"\n            \"It is widely used in mathematics and real life.\",\n            font_size=28\n        ).next_to(sum_title, DOWN)\n        self.play(FadeIn(sum_title), FadeIn(sum_text))\n        self.wait(3)\n        self.play(FadeOut(sum_title), FadeOut(sum_text))\n\n        # Scene 9: Closing\n        closing = Text(\"Thank you for watching!\", font_size=44)\n        self.play(FadeIn(closing))\n        self.wait(2)\n        self.play(FadeOut(closing))\n```"
          },
          "metadata": {},
          "execution_count": 123
        }
      ]
    },
    {
      "cell_type": "code",
      "source": [
        "!manim -pql pythagoras_scene.py PythagoreanTheoremScene\n"
      ],
      "metadata": {
        "colab": {
          "base_uri": "https://localhost:8080/"
        },
        "id": "WjKM3aQ1aF3R",
        "outputId": "d370c17a-41ee-4c40-bb91-362d20e6f052"
      },
      "execution_count": 124,
      "outputs": [
        {
          "output_type": "stream",
          "name": "stdout",
          "text": [
            "Manim Community \u001b[32mv0.\u001b[0m\u001b[32m19.0\u001b[0m\n",
            "\n",
            "\u001b[2;36m[06/28/25 07:24:48]\u001b[0m\u001b[2;36m \u001b[0m\u001b[32mINFO    \u001b[0m Animation \u001b[32m0\u001b[0m : Using cached     \u001b]8;id=737458;file:///usr/local/lib/python3.11/dist-packages/manim/renderer/cairo_renderer.py\u001b\\\u001b[2mcairo_renderer.py\u001b[0m\u001b]8;;\u001b\\\u001b[2m:\u001b[0m\u001b]8;id=905356;file:///usr/local/lib/python3.11/dist-packages/manim/renderer/cairo_renderer.py#89\u001b\\\u001b[2m89\u001b[0m\u001b]8;;\u001b\\\n",
            "\u001b[2;36m                    \u001b[0m         data \u001b[1m(\u001b[0mhash :                   \u001b[2m                    \u001b[0m\n",
            "\u001b[2;36m                    \u001b[0m         1185818338_1581668217_22313245 \u001b[2m                    \u001b[0m\n",
            "\u001b[2;36m                    \u001b[0m         7\u001b[1m)\u001b[0m                             \u001b[2m                    \u001b[0m\n",
            "\u001b[2;36m                   \u001b[0m\u001b[2;36m \u001b[0m\u001b[32mINFO    \u001b[0m Animation \u001b[32m1\u001b[0m : Using cached     \u001b]8;id=782908;file:///usr/local/lib/python3.11/dist-packages/manim/renderer/cairo_renderer.py\u001b\\\u001b[2mcairo_renderer.py\u001b[0m\u001b]8;;\u001b\\\u001b[2m:\u001b[0m\u001b]8;id=828756;file:///usr/local/lib/python3.11/dist-packages/manim/renderer/cairo_renderer.py#89\u001b\\\u001b[2m89\u001b[0m\u001b]8;;\u001b\\\n",
            "\u001b[2;36m                    \u001b[0m         data \u001b[1m(\u001b[0mhash :                   \u001b[2m                    \u001b[0m\n",
            "\u001b[2;36m                    \u001b[0m         624642324_4217992463_118412253 \u001b[2m                    \u001b[0m\n",
            "\u001b[2;36m                    \u001b[0m         4\u001b[1m)\u001b[0m                             \u001b[2m                    \u001b[0m\n",
            "\u001b[2;36m                   \u001b[0m\u001b[2;36m \u001b[0m\u001b[32mINFO    \u001b[0m Animation \u001b[32m2\u001b[0m : Partial      \u001b]8;id=649545;file:///usr/local/lib/python3.11/dist-packages/manim/scene/scene_file_writer.py\u001b\\\u001b[2mscene_file_writer.py\u001b[0m\u001b]8;;\u001b\\\u001b[2m:\u001b[0m\u001b]8;id=53074;file:///usr/local/lib/python3.11/dist-packages/manim/scene/scene_file_writer.py#588\u001b\\\u001b[2m588\u001b[0m\u001b]8;;\u001b\\\n",
            "\u001b[2;36m                    \u001b[0m         movie file written in      \u001b[2m                        \u001b[0m\n",
            "\u001b[2;36m                    \u001b[0m         \u001b[32m'/content/media/videos/pyt\u001b[0m \u001b[2m                        \u001b[0m\n",
            "\u001b[2;36m                    \u001b[0m         \u001b[32mhagoras_\u001b[0m\u001b[1;33mscene\u001b[0m\u001b[32m/480p15/parti\u001b[0m \u001b[2m                        \u001b[0m\n",
            "\u001b[2;36m                    \u001b[0m         \u001b[32mal_movie_files/Pythagorean\u001b[0m \u001b[2m                        \u001b[0m\n",
            "\u001b[2;36m                    \u001b[0m         \u001b[32mTheoremScene/624642324_316\u001b[0m \u001b[2m                        \u001b[0m\n",
            "\u001b[2;36m                    \u001b[0m         \u001b[32m2526001_971125880.mp4'\u001b[0m     \u001b[2m                        \u001b[0m\n",
            "\u001b[2;36m[06/28/25 07:24:49]\u001b[0m\u001b[2;36m \u001b[0m\u001b[32mINFO    \u001b[0m Animation \u001b[32m3\u001b[0m : Partial      \u001b]8;id=204974;file:///usr/local/lib/python3.11/dist-packages/manim/scene/scene_file_writer.py\u001b\\\u001b[2mscene_file_writer.py\u001b[0m\u001b]8;;\u001b\\\u001b[2m:\u001b[0m\u001b]8;id=507834;file:///usr/local/lib/python3.11/dist-packages/manim/scene/scene_file_writer.py#588\u001b\\\u001b[2m588\u001b[0m\u001b]8;;\u001b\\\n",
            "\u001b[2;36m                    \u001b[0m         movie file written in      \u001b[2m                        \u001b[0m\n",
            "\u001b[2;36m                    \u001b[0m         \u001b[32m'/content/media/videos/pyt\u001b[0m \u001b[2m                        \u001b[0m\n",
            "\u001b[2;36m                    \u001b[0m         \u001b[32mhagoras_\u001b[0m\u001b[1;33mscene\u001b[0m\u001b[32m/480p15/parti\u001b[0m \u001b[2m                        \u001b[0m\n",
            "\u001b[2;36m                    \u001b[0m         \u001b[32mal_movie_files/Pythagorean\u001b[0m \u001b[2m                        \u001b[0m\n",
            "\u001b[2;36m                    \u001b[0m         \u001b[32mTheoremScene/624642324_284\u001b[0m \u001b[2m                        \u001b[0m\n",
            "\u001b[2;36m                    \u001b[0m         \u001b[32m4360058_2388686763.mp4'\u001b[0m    \u001b[2m                        \u001b[0m\n",
            "\u001b[2;36m[06/28/25 07:24:50]\u001b[0m\u001b[2;36m \u001b[0m\u001b[32mINFO    \u001b[0m Animation \u001b[32m4\u001b[0m : Partial      \u001b]8;id=745648;file:///usr/local/lib/python3.11/dist-packages/manim/scene/scene_file_writer.py\u001b\\\u001b[2mscene_file_writer.py\u001b[0m\u001b]8;;\u001b\\\u001b[2m:\u001b[0m\u001b]8;id=16204;file:///usr/local/lib/python3.11/dist-packages/manim/scene/scene_file_writer.py#588\u001b\\\u001b[2m588\u001b[0m\u001b]8;;\u001b\\\n",
            "\u001b[2;36m                    \u001b[0m         movie file written in      \u001b[2m                        \u001b[0m\n",
            "\u001b[2;36m                    \u001b[0m         \u001b[32m'/content/media/videos/pyt\u001b[0m \u001b[2m                        \u001b[0m\n",
            "\u001b[2;36m                    \u001b[0m         \u001b[32mhagoras_\u001b[0m\u001b[1;33mscene\u001b[0m\u001b[32m/480p15/parti\u001b[0m \u001b[2m                        \u001b[0m\n",
            "\u001b[2;36m                    \u001b[0m         \u001b[32mal_movie_files/Pythagorean\u001b[0m \u001b[2m                        \u001b[0m\n",
            "\u001b[2;36m                    \u001b[0m         \u001b[32mTheoremScene/624642324_324\u001b[0m \u001b[2m                        \u001b[0m\n",
            "\u001b[2;36m                    \u001b[0m         \u001b[32m8501900_3576207930.mp4'\u001b[0m    \u001b[2m                        \u001b[0m\n",
            "\u001b[2;36m[06/28/25 07:24:51]\u001b[0m\u001b[2;36m \u001b[0m\u001b[32mINFO    \u001b[0m Animation \u001b[32m5\u001b[0m : Partial      \u001b]8;id=404276;file:///usr/local/lib/python3.11/dist-packages/manim/scene/scene_file_writer.py\u001b\\\u001b[2mscene_file_writer.py\u001b[0m\u001b]8;;\u001b\\\u001b[2m:\u001b[0m\u001b]8;id=861000;file:///usr/local/lib/python3.11/dist-packages/manim/scene/scene_file_writer.py#588\u001b\\\u001b[2m588\u001b[0m\u001b]8;;\u001b\\\n",
            "\u001b[2;36m                    \u001b[0m         movie file written in      \u001b[2m                        \u001b[0m\n",
            "\u001b[2;36m                    \u001b[0m         \u001b[32m'/content/media/videos/pyt\u001b[0m \u001b[2m                        \u001b[0m\n",
            "\u001b[2;36m                    \u001b[0m         \u001b[32mhagoras_\u001b[0m\u001b[1;33mscene\u001b[0m\u001b[32m/480p15/parti\u001b[0m \u001b[2m                        \u001b[0m\n",
            "\u001b[2;36m                    \u001b[0m         \u001b[32mal_movie_files/Pythagorean\u001b[0m \u001b[2m                        \u001b[0m\n",
            "\u001b[2;36m                    \u001b[0m         \u001b[32mTheoremScene/624642324_370\u001b[0m \u001b[2m                        \u001b[0m\n",
            "\u001b[2;36m                    \u001b[0m         \u001b[32m5269285_691969773.mp4'\u001b[0m     \u001b[2m                        \u001b[0m\n",
            "\u001b[2;36m                   \u001b[0m\u001b[2;36m \u001b[0m\u001b[32mINFO    \u001b[0m Animation \u001b[32m6\u001b[0m : Partial      \u001b]8;id=420383;file:///usr/local/lib/python3.11/dist-packages/manim/scene/scene_file_writer.py\u001b\\\u001b[2mscene_file_writer.py\u001b[0m\u001b]8;;\u001b\\\u001b[2m:\u001b[0m\u001b]8;id=308240;file:///usr/local/lib/python3.11/dist-packages/manim/scene/scene_file_writer.py#588\u001b\\\u001b[2m588\u001b[0m\u001b]8;;\u001b\\\n",
            "\u001b[2;36m                    \u001b[0m         movie file written in      \u001b[2m                        \u001b[0m\n",
            "\u001b[2;36m                    \u001b[0m         \u001b[32m'/content/media/videos/pyt\u001b[0m \u001b[2m                        \u001b[0m\n",
            "\u001b[2;36m                    \u001b[0m         \u001b[32mhagoras_\u001b[0m\u001b[1;33mscene\u001b[0m\u001b[32m/480p15/parti\u001b[0m \u001b[2m                        \u001b[0m\n",
            "\u001b[2;36m                    \u001b[0m         \u001b[32mal_movie_files/Pythagorean\u001b[0m \u001b[2m                        \u001b[0m\n",
            "\u001b[2;36m                    \u001b[0m         \u001b[32mTheoremScene/624642324_421\u001b[0m \u001b[2m                        \u001b[0m\n",
            "\u001b[2;36m                    \u001b[0m         \u001b[32m7992463_3701209700.mp4'\u001b[0m    \u001b[2m                        \u001b[0m\n",
            "\u001b[2;36m[06/28/25 07:24:52]\u001b[0m\u001b[2;36m \u001b[0m\u001b[32mINFO    \u001b[0m Animation \u001b[32m7\u001b[0m : Partial      \u001b]8;id=676951;file:///usr/local/lib/python3.11/dist-packages/manim/scene/scene_file_writer.py\u001b\\\u001b[2mscene_file_writer.py\u001b[0m\u001b]8;;\u001b\\\u001b[2m:\u001b[0m\u001b]8;id=907068;file:///usr/local/lib/python3.11/dist-packages/manim/scene/scene_file_writer.py#588\u001b\\\u001b[2m588\u001b[0m\u001b]8;;\u001b\\\n",
            "\u001b[2;36m                    \u001b[0m         movie file written in      \u001b[2m                        \u001b[0m\n",
            "\u001b[2;36m                    \u001b[0m         \u001b[32m'/content/media/videos/pyt\u001b[0m \u001b[2m                        \u001b[0m\n",
            "\u001b[2;36m                    \u001b[0m         \u001b[32mhagoras_\u001b[0m\u001b[1;33mscene\u001b[0m\u001b[32m/480p15/parti\u001b[0m \u001b[2m                        \u001b[0m\n",
            "\u001b[2;36m                    \u001b[0m         \u001b[32mal_movie_files/Pythagorean\u001b[0m \u001b[2m                        \u001b[0m\n",
            "\u001b[2;36m                    \u001b[0m         \u001b[32mTheoremScene/624642324_115\u001b[0m \u001b[2m                        \u001b[0m\n",
            "\u001b[2;36m                    \u001b[0m         \u001b[32m128653_1582002612.mp4'\u001b[0m     \u001b[2m                        \u001b[0m\n",
            "\u001b[2;36m                   \u001b[0m\u001b[2;36m \u001b[0m\u001b[32mINFO    \u001b[0m Animation \u001b[32m8\u001b[0m : Partial      \u001b]8;id=70700;file:///usr/local/lib/python3.11/dist-packages/manim/scene/scene_file_writer.py\u001b\\\u001b[2mscene_file_writer.py\u001b[0m\u001b]8;;\u001b\\\u001b[2m:\u001b[0m\u001b]8;id=492203;file:///usr/local/lib/python3.11/dist-packages/manim/scene/scene_file_writer.py#588\u001b\\\u001b[2m588\u001b[0m\u001b]8;;\u001b\\\n",
            "\u001b[2;36m                    \u001b[0m         movie file written in      \u001b[2m                        \u001b[0m\n",
            "\u001b[2;36m                    \u001b[0m         \u001b[32m'/content/media/videos/pyt\u001b[0m \u001b[2m                        \u001b[0m\n",
            "\u001b[2;36m                    \u001b[0m         \u001b[32mhagoras_\u001b[0m\u001b[1;33mscene\u001b[0m\u001b[32m/480p15/parti\u001b[0m \u001b[2m                        \u001b[0m\n",
            "\u001b[2;36m                    \u001b[0m         \u001b[32mal_movie_files/Pythagorean\u001b[0m \u001b[2m                        \u001b[0m\n",
            "\u001b[2;36m                    \u001b[0m         \u001b[32mTheoremScene/624642324_895\u001b[0m \u001b[2m                        \u001b[0m\n",
            "\u001b[2;36m                    \u001b[0m         \u001b[32m808155_861303348.mp4'\u001b[0m      \u001b[2m                        \u001b[0m\n",
            "\u001b[2;36m[06/28/25 07:24:53]\u001b[0m\u001b[2;36m \u001b[0m\u001b[32mINFO    \u001b[0m Animation \u001b[32m9\u001b[0m : Partial      \u001b]8;id=519128;file:///usr/local/lib/python3.11/dist-packages/manim/scene/scene_file_writer.py\u001b\\\u001b[2mscene_file_writer.py\u001b[0m\u001b]8;;\u001b\\\u001b[2m:\u001b[0m\u001b]8;id=26806;file:///usr/local/lib/python3.11/dist-packages/manim/scene/scene_file_writer.py#588\u001b\\\u001b[2m588\u001b[0m\u001b]8;;\u001b\\\n",
            "\u001b[2;36m                    \u001b[0m         movie file written in      \u001b[2m                        \u001b[0m\n",
            "\u001b[2;36m                    \u001b[0m         \u001b[32m'/content/media/videos/pyt\u001b[0m \u001b[2m                        \u001b[0m\n",
            "\u001b[2;36m                    \u001b[0m         \u001b[32mhagoras_\u001b[0m\u001b[1;33mscene\u001b[0m\u001b[32m/480p15/parti\u001b[0m \u001b[2m                        \u001b[0m\n",
            "\u001b[2;36m                    \u001b[0m         \u001b[32mal_movie_files/Pythagorean\u001b[0m \u001b[2m                        \u001b[0m\n",
            "\u001b[2;36m                    \u001b[0m         \u001b[32mTheoremScene/624642324_184\u001b[0m \u001b[2m                        \u001b[0m\n",
            "\u001b[2;36m                    \u001b[0m         \u001b[32m3088470_2885930246.mp4'\u001b[0m    \u001b[2m                        \u001b[0m\n",
            "\u001b[2;36m                   \u001b[0m\u001b[2;36m \u001b[0m\u001b[32mINFO    \u001b[0m Animation \u001b[32m10\u001b[0m : Partial     \u001b]8;id=157889;file:///usr/local/lib/python3.11/dist-packages/manim/scene/scene_file_writer.py\u001b\\\u001b[2mscene_file_writer.py\u001b[0m\u001b]8;;\u001b\\\u001b[2m:\u001b[0m\u001b]8;id=948769;file:///usr/local/lib/python3.11/dist-packages/manim/scene/scene_file_writer.py#588\u001b\\\u001b[2m588\u001b[0m\u001b]8;;\u001b\\\n",
            "\u001b[2;36m                    \u001b[0m         movie file written in      \u001b[2m                        \u001b[0m\n",
            "\u001b[2;36m                    \u001b[0m         \u001b[32m'/content/media/videos/pyt\u001b[0m \u001b[2m                        \u001b[0m\n",
            "\u001b[2;36m                    \u001b[0m         \u001b[32mhagoras_\u001b[0m\u001b[1;33mscene\u001b[0m\u001b[32m/480p15/parti\u001b[0m \u001b[2m                        \u001b[0m\n",
            "\u001b[2;36m                    \u001b[0m         \u001b[32mal_movie_files/Pythagorean\u001b[0m \u001b[2m                        \u001b[0m\n",
            "\u001b[2;36m                    \u001b[0m         \u001b[32mTheoremScene/624642324_284\u001b[0m \u001b[2m                        \u001b[0m\n",
            "\u001b[2;36m                    \u001b[0m         \u001b[32m4360058_3277627301.mp4'\u001b[0m    \u001b[2m                        \u001b[0m\n",
            "\u001b[2;36m[06/28/25 07:24:55]\u001b[0m\u001b[2;36m \u001b[0m\u001b[32mINFO    \u001b[0m Animation \u001b[32m11\u001b[0m : Partial     \u001b]8;id=766932;file:///usr/local/lib/python3.11/dist-packages/manim/scene/scene_file_writer.py\u001b\\\u001b[2mscene_file_writer.py\u001b[0m\u001b]8;;\u001b\\\u001b[2m:\u001b[0m\u001b]8;id=677429;file:///usr/local/lib/python3.11/dist-packages/manim/scene/scene_file_writer.py#588\u001b\\\u001b[2m588\u001b[0m\u001b]8;;\u001b\\\n",
            "\u001b[2;36m                    \u001b[0m         movie file written in      \u001b[2m                        \u001b[0m\n",
            "\u001b[2;36m                    \u001b[0m         \u001b[32m'/content/media/videos/pyt\u001b[0m \u001b[2m                        \u001b[0m\n",
            "\u001b[2;36m                    \u001b[0m         \u001b[32mhagoras_\u001b[0m\u001b[1;33mscene\u001b[0m\u001b[32m/480p15/parti\u001b[0m \u001b[2m                        \u001b[0m\n",
            "\u001b[2;36m                    \u001b[0m         \u001b[32mal_movie_files/Pythagorean\u001b[0m \u001b[2m                        \u001b[0m\n",
            "\u001b[2;36m                    \u001b[0m         \u001b[32mTheoremScene/624642324_524\u001b[0m \u001b[2m                        \u001b[0m\n",
            "\u001b[2;36m                    \u001b[0m         \u001b[32m569118_3193471102.mp4'\u001b[0m     \u001b[2m                        \u001b[0m\n",
            "\u001b[2;36m[06/28/25 07:24:56]\u001b[0m\u001b[2;36m \u001b[0m\u001b[32mINFO    \u001b[0m Animation \u001b[32m12\u001b[0m : Partial     \u001b]8;id=857617;file:///usr/local/lib/python3.11/dist-packages/manim/scene/scene_file_writer.py\u001b\\\u001b[2mscene_file_writer.py\u001b[0m\u001b]8;;\u001b\\\u001b[2m:\u001b[0m\u001b]8;id=666276;file:///usr/local/lib/python3.11/dist-packages/manim/scene/scene_file_writer.py#588\u001b\\\u001b[2m588\u001b[0m\u001b]8;;\u001b\\\n",
            "\u001b[2;36m                    \u001b[0m         movie file written in      \u001b[2m                        \u001b[0m\n",
            "\u001b[2;36m                    \u001b[0m         \u001b[32m'/content/media/videos/pyt\u001b[0m \u001b[2m                        \u001b[0m\n",
            "\u001b[2;36m                    \u001b[0m         \u001b[32mhagoras_\u001b[0m\u001b[1;33mscene\u001b[0m\u001b[32m/480p15/parti\u001b[0m \u001b[2m                        \u001b[0m\n",
            "\u001b[2;36m                    \u001b[0m         \u001b[32mal_movie_files/Pythagorean\u001b[0m \u001b[2m                        \u001b[0m\n",
            "\u001b[2;36m                    \u001b[0m         \u001b[32mTheoremScene/624642324_402\u001b[0m \u001b[2m                        \u001b[0m\n",
            "\u001b[2;36m                    \u001b[0m         \u001b[32m4888404_690584945.mp4'\u001b[0m     \u001b[2m                        \u001b[0m\n",
            "\u001b[2;36m[06/28/25 07:24:58]\u001b[0m\u001b[2;36m \u001b[0m\u001b[32mINFO    \u001b[0m Animation \u001b[32m13\u001b[0m : Partial     \u001b]8;id=164362;file:///usr/local/lib/python3.11/dist-packages/manim/scene/scene_file_writer.py\u001b\\\u001b[2mscene_file_writer.py\u001b[0m\u001b]8;;\u001b\\\u001b[2m:\u001b[0m\u001b]8;id=945721;file:///usr/local/lib/python3.11/dist-packages/manim/scene/scene_file_writer.py#588\u001b\\\u001b[2m588\u001b[0m\u001b]8;;\u001b\\\n",
            "\u001b[2;36m                    \u001b[0m         movie file written in      \u001b[2m                        \u001b[0m\n",
            "\u001b[2;36m                    \u001b[0m         \u001b[32m'/content/media/videos/pyt\u001b[0m \u001b[2m                        \u001b[0m\n",
            "\u001b[2;36m                    \u001b[0m         \u001b[32mhagoras_\u001b[0m\u001b[1;33mscene\u001b[0m\u001b[32m/480p15/parti\u001b[0m \u001b[2m                        \u001b[0m\n",
            "\u001b[2;36m                    \u001b[0m         \u001b[32mal_movie_files/Pythagorean\u001b[0m \u001b[2m                        \u001b[0m\n",
            "\u001b[2;36m                    \u001b[0m         \u001b[32mTheoremScene/624642324_421\u001b[0m \u001b[2m                        \u001b[0m\n",
            "\u001b[2;36m                    \u001b[0m         \u001b[32m7992463_2013728948.mp4'\u001b[0m    \u001b[2m                        \u001b[0m\n",
            "\u001b[2;36m[06/28/25 07:24:59]\u001b[0m\u001b[2;36m \u001b[0m\u001b[32mINFO    \u001b[0m Animation \u001b[32m14\u001b[0m : Partial     \u001b]8;id=881025;file:///usr/local/lib/python3.11/dist-packages/manim/scene/scene_file_writer.py\u001b\\\u001b[2mscene_file_writer.py\u001b[0m\u001b]8;;\u001b\\\u001b[2m:\u001b[0m\u001b]8;id=318316;file:///usr/local/lib/python3.11/dist-packages/manim/scene/scene_file_writer.py#588\u001b\\\u001b[2m588\u001b[0m\u001b]8;;\u001b\\\n",
            "\u001b[2;36m                    \u001b[0m         movie file written in      \u001b[2m                        \u001b[0m\n",
            "\u001b[2;36m                    \u001b[0m         \u001b[32m'/content/media/videos/pyt\u001b[0m \u001b[2m                        \u001b[0m\n",
            "\u001b[2;36m                    \u001b[0m         \u001b[32mhagoras_\u001b[0m\u001b[1;33mscene\u001b[0m\u001b[32m/480p15/parti\u001b[0m \u001b[2m                        \u001b[0m\n",
            "\u001b[2;36m                    \u001b[0m         \u001b[32mal_movie_files/Pythagorean\u001b[0m \u001b[2m                        \u001b[0m\n",
            "\u001b[2;36m                    \u001b[0m         \u001b[32mTheoremScene/624642324_801\u001b[0m \u001b[2m                        \u001b[0m\n",
            "\u001b[2;36m                    \u001b[0m         \u001b[32m17387_3847359346.mp4'\u001b[0m      \u001b[2m                        \u001b[0m\n",
            "\u001b[2;36m[06/28/25 07:25:00]\u001b[0m\u001b[2;36m \u001b[0m\u001b[32mINFO    \u001b[0m Animation \u001b[32m15\u001b[0m : Partial     \u001b]8;id=543685;file:///usr/local/lib/python3.11/dist-packages/manim/scene/scene_file_writer.py\u001b\\\u001b[2mscene_file_writer.py\u001b[0m\u001b]8;;\u001b\\\u001b[2m:\u001b[0m\u001b]8;id=638724;file:///usr/local/lib/python3.11/dist-packages/manim/scene/scene_file_writer.py#588\u001b\\\u001b[2m588\u001b[0m\u001b]8;;\u001b\\\n",
            "\u001b[2;36m                    \u001b[0m         movie file written in      \u001b[2m                        \u001b[0m\n",
            "\u001b[2;36m                    \u001b[0m         \u001b[32m'/content/media/videos/pyt\u001b[0m \u001b[2m                        \u001b[0m\n",
            "\u001b[2;36m                    \u001b[0m         \u001b[32mhagoras_\u001b[0m\u001b[1;33mscene\u001b[0m\u001b[32m/480p15/parti\u001b[0m \u001b[2m                        \u001b[0m\n",
            "\u001b[2;36m                    \u001b[0m         \u001b[32mal_movie_files/Pythagorean\u001b[0m \u001b[2m                        \u001b[0m\n",
            "\u001b[2;36m                    \u001b[0m         \u001b[32mTheoremScene/624642324_284\u001b[0m \u001b[2m                        \u001b[0m\n",
            "\u001b[2;36m                    \u001b[0m         \u001b[32m4360058_1798919192.mp4'\u001b[0m    \u001b[2m                        \u001b[0m\n",
            "\u001b[2;36m[06/28/25 07:25:02]\u001b[0m\u001b[2;36m \u001b[0m\u001b[32mINFO    \u001b[0m Animation \u001b[32m16\u001b[0m : Partial     \u001b]8;id=728798;file:///usr/local/lib/python3.11/dist-packages/manim/scene/scene_file_writer.py\u001b\\\u001b[2mscene_file_writer.py\u001b[0m\u001b]8;;\u001b\\\u001b[2m:\u001b[0m\u001b]8;id=968314;file:///usr/local/lib/python3.11/dist-packages/manim/scene/scene_file_writer.py#588\u001b\\\u001b[2m588\u001b[0m\u001b]8;;\u001b\\\n",
            "\u001b[2;36m                    \u001b[0m         movie file written in      \u001b[2m                        \u001b[0m\n",
            "\u001b[2;36m                    \u001b[0m         \u001b[32m'/content/media/videos/pyt\u001b[0m \u001b[2m                        \u001b[0m\n",
            "\u001b[2;36m                    \u001b[0m         \u001b[32mhagoras_\u001b[0m\u001b[1;33mscene\u001b[0m\u001b[32m/480p15/parti\u001b[0m \u001b[2m                        \u001b[0m\n",
            "\u001b[2;36m                    \u001b[0m         \u001b[32mal_movie_files/Pythagorean\u001b[0m \u001b[2m                        \u001b[0m\n",
            "\u001b[2;36m                    \u001b[0m         \u001b[32mTheoremScene/624642324_205\u001b[0m \u001b[2m                        \u001b[0m\n",
            "\u001b[2;36m                    \u001b[0m         \u001b[32m1335019_211570130.mp4'\u001b[0m     \u001b[2m                        \u001b[0m\n",
            "\u001b[2;36m[06/28/25 07:25:05]\u001b[0m\u001b[2;36m \u001b[0m\u001b[32mINFO    \u001b[0m Animation \u001b[32m17\u001b[0m : Partial     \u001b]8;id=329753;file:///usr/local/lib/python3.11/dist-packages/manim/scene/scene_file_writer.py\u001b\\\u001b[2mscene_file_writer.py\u001b[0m\u001b]8;;\u001b\\\u001b[2m:\u001b[0m\u001b]8;id=336681;file:///usr/local/lib/python3.11/dist-packages/manim/scene/scene_file_writer.py#588\u001b\\\u001b[2m588\u001b[0m\u001b]8;;\u001b\\\n",
            "\u001b[2;36m                    \u001b[0m         movie file written in      \u001b[2m                        \u001b[0m\n",
            "\u001b[2;36m                    \u001b[0m         \u001b[32m'/content/media/videos/pyt\u001b[0m \u001b[2m                        \u001b[0m\n",
            "\u001b[2;36m                    \u001b[0m         \u001b[32mhagoras_\u001b[0m\u001b[1;33mscene\u001b[0m\u001b[32m/480p15/parti\u001b[0m \u001b[2m                        \u001b[0m\n",
            "\u001b[2;36m                    \u001b[0m         \u001b[32mal_movie_files/Pythagorean\u001b[0m \u001b[2m                        \u001b[0m\n",
            "\u001b[2;36m                    \u001b[0m         \u001b[32mTheoremScene/624642324_344\u001b[0m \u001b[2m                        \u001b[0m\n",
            "\u001b[2;36m                    \u001b[0m         \u001b[32m9307045_2489667626.mp4'\u001b[0m    \u001b[2m                        \u001b[0m\n",
            "\u001b[2;36m[06/28/25 07:25:06]\u001b[0m\u001b[2;36m \u001b[0m\u001b[32mINFO    \u001b[0m Animation \u001b[32m18\u001b[0m : Partial     \u001b]8;id=889155;file:///usr/local/lib/python3.11/dist-packages/manim/scene/scene_file_writer.py\u001b\\\u001b[2mscene_file_writer.py\u001b[0m\u001b]8;;\u001b\\\u001b[2m:\u001b[0m\u001b]8;id=963260;file:///usr/local/lib/python3.11/dist-packages/manim/scene/scene_file_writer.py#588\u001b\\\u001b[2m588\u001b[0m\u001b]8;;\u001b\\\n",
            "\u001b[2;36m                    \u001b[0m         movie file written in      \u001b[2m                        \u001b[0m\n",
            "\u001b[2;36m                    \u001b[0m         \u001b[32m'/content/media/videos/pyt\u001b[0m \u001b[2m                        \u001b[0m\n",
            "\u001b[2;36m                    \u001b[0m         \u001b[32mhagoras_\u001b[0m\u001b[1;33mscene\u001b[0m\u001b[32m/480p15/parti\u001b[0m \u001b[2m                        \u001b[0m\n",
            "\u001b[2;36m                    \u001b[0m         \u001b[32mal_movie_files/Pythagorean\u001b[0m \u001b[2m                        \u001b[0m\n",
            "\u001b[2;36m                    \u001b[0m         \u001b[32mTheoremScene/624642324_255\u001b[0m \u001b[2m                        \u001b[0m\n",
            "\u001b[2;36m                    \u001b[0m         \u001b[32m2855209_2638035280.mp4'\u001b[0m    \u001b[2m                        \u001b[0m\n",
            "\u001b[2;36m[06/28/25 07:25:08]\u001b[0m\u001b[2;36m \u001b[0m\u001b[32mINFO    \u001b[0m Animation \u001b[32m19\u001b[0m : Partial     \u001b]8;id=917643;file:///usr/local/lib/python3.11/dist-packages/manim/scene/scene_file_writer.py\u001b\\\u001b[2mscene_file_writer.py\u001b[0m\u001b]8;;\u001b\\\u001b[2m:\u001b[0m\u001b]8;id=49232;file:///usr/local/lib/python3.11/dist-packages/manim/scene/scene_file_writer.py#588\u001b\\\u001b[2m588\u001b[0m\u001b]8;;\u001b\\\n",
            "\u001b[2;36m                    \u001b[0m         movie file written in      \u001b[2m                        \u001b[0m\n",
            "\u001b[2;36m                    \u001b[0m         \u001b[32m'/content/media/videos/pyt\u001b[0m \u001b[2m                        \u001b[0m\n",
            "\u001b[2;36m                    \u001b[0m         \u001b[32mhagoras_\u001b[0m\u001b[1;33mscene\u001b[0m\u001b[32m/480p15/parti\u001b[0m \u001b[2m                        \u001b[0m\n",
            "\u001b[2;36m                    \u001b[0m         \u001b[32mal_movie_files/Pythagorean\u001b[0m \u001b[2m                        \u001b[0m\n",
            "\u001b[2;36m                    \u001b[0m         \u001b[32mTheoremScene/624642324_177\u001b[0m \u001b[2m                        \u001b[0m\n",
            "\u001b[2;36m                    \u001b[0m         \u001b[32m063071_672570034.mp4'\u001b[0m      \u001b[2m                        \u001b[0m\n",
            "\u001b[2;36m[06/28/25 07:25:10]\u001b[0m\u001b[2;36m \u001b[0m\u001b[32mINFO    \u001b[0m Animation \u001b[32m20\u001b[0m : Partial     \u001b]8;id=799837;file:///usr/local/lib/python3.11/dist-packages/manim/scene/scene_file_writer.py\u001b\\\u001b[2mscene_file_writer.py\u001b[0m\u001b]8;;\u001b\\\u001b[2m:\u001b[0m\u001b]8;id=703670;file:///usr/local/lib/python3.11/dist-packages/manim/scene/scene_file_writer.py#588\u001b\\\u001b[2m588\u001b[0m\u001b]8;;\u001b\\\n",
            "\u001b[2;36m                    \u001b[0m         movie file written in      \u001b[2m                        \u001b[0m\n",
            "\u001b[2;36m                    \u001b[0m         \u001b[32m'/content/media/videos/pyt\u001b[0m \u001b[2m                        \u001b[0m\n",
            "\u001b[2;36m                    \u001b[0m         \u001b[32mhagoras_\u001b[0m\u001b[1;33mscene\u001b[0m\u001b[32m/480p15/parti\u001b[0m \u001b[2m                        \u001b[0m\n",
            "\u001b[2;36m                    \u001b[0m         \u001b[32mal_movie_files/Pythagorean\u001b[0m \u001b[2m                        \u001b[0m\n",
            "\u001b[2;36m                    \u001b[0m         \u001b[32mTheoremScene/624642324_137\u001b[0m \u001b[2m                        \u001b[0m\n",
            "\u001b[2;36m                    \u001b[0m         \u001b[32m2977877_3844250536.mp4'\u001b[0m    \u001b[2m                        \u001b[0m\n",
            "\u001b[2;36m[06/28/25 07:25:11]\u001b[0m\u001b[2;36m \u001b[0m\u001b[32mINFO    \u001b[0m Animation \u001b[32m21\u001b[0m : Partial     \u001b]8;id=314534;file:///usr/local/lib/python3.11/dist-packages/manim/scene/scene_file_writer.py\u001b\\\u001b[2mscene_file_writer.py\u001b[0m\u001b]8;;\u001b\\\u001b[2m:\u001b[0m\u001b]8;id=853629;file:///usr/local/lib/python3.11/dist-packages/manim/scene/scene_file_writer.py#588\u001b\\\u001b[2m588\u001b[0m\u001b]8;;\u001b\\\n",
            "\u001b[2;36m                    \u001b[0m         movie file written in      \u001b[2m                        \u001b[0m\n",
            "\u001b[2;36m                    \u001b[0m         \u001b[32m'/content/media/videos/pyt\u001b[0m \u001b[2m                        \u001b[0m\n",
            "\u001b[2;36m                    \u001b[0m         \u001b[32mhagoras_\u001b[0m\u001b[1;33mscene\u001b[0m\u001b[32m/480p15/parti\u001b[0m \u001b[2m                        \u001b[0m\n",
            "\u001b[2;36m                    \u001b[0m         \u001b[32mal_movie_files/Pythagorean\u001b[0m \u001b[2m                        \u001b[0m\n",
            "\u001b[2;36m                    \u001b[0m         \u001b[32mTheoremScene/624642324_421\u001b[0m \u001b[2m                        \u001b[0m\n",
            "\u001b[2;36m                    \u001b[0m         \u001b[32m7992463_2281405330.mp4'\u001b[0m    \u001b[2m                        \u001b[0m\n",
            "\u001b[2;36m[06/28/25 07:25:12]\u001b[0m\u001b[2;36m \u001b[0m\u001b[32mINFO    \u001b[0m Animation \u001b[32m22\u001b[0m : Partial     \u001b]8;id=760788;file:///usr/local/lib/python3.11/dist-packages/manim/scene/scene_file_writer.py\u001b\\\u001b[2mscene_file_writer.py\u001b[0m\u001b]8;;\u001b\\\u001b[2m:\u001b[0m\u001b]8;id=50043;file:///usr/local/lib/python3.11/dist-packages/manim/scene/scene_file_writer.py#588\u001b\\\u001b[2m588\u001b[0m\u001b]8;;\u001b\\\n",
            "\u001b[2;36m                    \u001b[0m         movie file written in      \u001b[2m                        \u001b[0m\n",
            "\u001b[2;36m                    \u001b[0m         \u001b[32m'/content/media/videos/pyt\u001b[0m \u001b[2m                        \u001b[0m\n",
            "\u001b[2;36m                    \u001b[0m         \u001b[32mhagoras_\u001b[0m\u001b[1;33mscene\u001b[0m\u001b[32m/480p15/parti\u001b[0m \u001b[2m                        \u001b[0m\n",
            "\u001b[2;36m                    \u001b[0m         \u001b[32mal_movie_files/Pythagorean\u001b[0m \u001b[2m                        \u001b[0m\n",
            "\u001b[2;36m                    \u001b[0m         \u001b[32mTheoremScene/624642324_222\u001b[0m \u001b[2m                        \u001b[0m\n",
            "\u001b[2;36m                    \u001b[0m         \u001b[32m7753123_3966053816.mp4'\u001b[0m    \u001b[2m                        \u001b[0m\n",
            "\u001b[2;36m[06/28/25 07:25:13]\u001b[0m\u001b[2;36m \u001b[0m\u001b[32mINFO    \u001b[0m Animation \u001b[32m23\u001b[0m : Partial     \u001b]8;id=598375;file:///usr/local/lib/python3.11/dist-packages/manim/scene/scene_file_writer.py\u001b\\\u001b[2mscene_file_writer.py\u001b[0m\u001b]8;;\u001b\\\u001b[2m:\u001b[0m\u001b]8;id=971657;file:///usr/local/lib/python3.11/dist-packages/manim/scene/scene_file_writer.py#588\u001b\\\u001b[2m588\u001b[0m\u001b]8;;\u001b\\\n",
            "\u001b[2;36m                    \u001b[0m         movie file written in      \u001b[2m                        \u001b[0m\n",
            "\u001b[2;36m                    \u001b[0m         \u001b[32m'/content/media/videos/pyt\u001b[0m \u001b[2m                        \u001b[0m\n",
            "\u001b[2;36m                    \u001b[0m         \u001b[32mhagoras_\u001b[0m\u001b[1;33mscene\u001b[0m\u001b[32m/480p15/parti\u001b[0m \u001b[2m                        \u001b[0m\n",
            "\u001b[2;36m                    \u001b[0m         \u001b[32mal_movie_files/Pythagorean\u001b[0m \u001b[2m                        \u001b[0m\n",
            "\u001b[2;36m                    \u001b[0m         \u001b[32mTheoremScene/624642324_895\u001b[0m \u001b[2m                        \u001b[0m\n",
            "\u001b[2;36m                    \u001b[0m         \u001b[32m808155_3768459689.mp4'\u001b[0m     \u001b[2m                        \u001b[0m\n",
            "\u001b[2;36m                   \u001b[0m\u001b[2;36m \u001b[0m\u001b[32mINFO    \u001b[0m Animation \u001b[32m24\u001b[0m : Partial     \u001b]8;id=87494;file:///usr/local/lib/python3.11/dist-packages/manim/scene/scene_file_writer.py\u001b\\\u001b[2mscene_file_writer.py\u001b[0m\u001b]8;;\u001b\\\u001b[2m:\u001b[0m\u001b]8;id=283089;file:///usr/local/lib/python3.11/dist-packages/manim/scene/scene_file_writer.py#588\u001b\\\u001b[2m588\u001b[0m\u001b]8;;\u001b\\\n",
            "\u001b[2;36m                    \u001b[0m         movie file written in      \u001b[2m                        \u001b[0m\n",
            "\u001b[2;36m                    \u001b[0m         \u001b[32m'/content/media/videos/pyt\u001b[0m \u001b[2m                        \u001b[0m\n",
            "\u001b[2;36m                    \u001b[0m         \u001b[32mhagoras_\u001b[0m\u001b[1;33mscene\u001b[0m\u001b[32m/480p15/parti\u001b[0m \u001b[2m                        \u001b[0m\n",
            "\u001b[2;36m                    \u001b[0m         \u001b[32mal_movie_files/Pythagorean\u001b[0m \u001b[2m                        \u001b[0m\n",
            "\u001b[2;36m                    \u001b[0m         \u001b[32mTheoremScene/624642324_195\u001b[0m \u001b[2m                        \u001b[0m\n",
            "\u001b[2;36m                    \u001b[0m         \u001b[32m2736874_2351033535.mp4'\u001b[0m    \u001b[2m                        \u001b[0m\n",
            "\u001b[2;36m[06/28/25 07:25:14]\u001b[0m\u001b[2;36m \u001b[0m\u001b[32mINFO    \u001b[0m Animation \u001b[32m25\u001b[0m : Partial     \u001b]8;id=328223;file:///usr/local/lib/python3.11/dist-packages/manim/scene/scene_file_writer.py\u001b\\\u001b[2mscene_file_writer.py\u001b[0m\u001b]8;;\u001b\\\u001b[2m:\u001b[0m\u001b]8;id=756931;file:///usr/local/lib/python3.11/dist-packages/manim/scene/scene_file_writer.py#588\u001b\\\u001b[2m588\u001b[0m\u001b]8;;\u001b\\\n",
            "\u001b[2;36m                    \u001b[0m         movie file written in      \u001b[2m                        \u001b[0m\n",
            "\u001b[2;36m                    \u001b[0m         \u001b[32m'/content/media/videos/pyt\u001b[0m \u001b[2m                        \u001b[0m\n",
            "\u001b[2;36m                    \u001b[0m         \u001b[32mhagoras_\u001b[0m\u001b[1;33mscene\u001b[0m\u001b[32m/480p15/parti\u001b[0m \u001b[2m                        \u001b[0m\n",
            "\u001b[2;36m                    \u001b[0m         \u001b[32mal_movie_files/Pythagorean\u001b[0m \u001b[2m                        \u001b[0m\n",
            "\u001b[2;36m                    \u001b[0m         \u001b[32mTheoremScene/624642324_284\u001b[0m \u001b[2m                        \u001b[0m\n",
            "\u001b[2;36m                    \u001b[0m         \u001b[32m4360058_3955673614.mp4'\u001b[0m    \u001b[2m                        \u001b[0m\n",
            "\u001b[2;36m[06/28/25 07:25:16]\u001b[0m\u001b[2;36m \u001b[0m\u001b[32mINFO    \u001b[0m Animation \u001b[32m26\u001b[0m : Partial     \u001b]8;id=175259;file:///usr/local/lib/python3.11/dist-packages/manim/scene/scene_file_writer.py\u001b\\\u001b[2mscene_file_writer.py\u001b[0m\u001b]8;;\u001b\\\u001b[2m:\u001b[0m\u001b]8;id=285610;file:///usr/local/lib/python3.11/dist-packages/manim/scene/scene_file_writer.py#588\u001b\\\u001b[2m588\u001b[0m\u001b]8;;\u001b\\\n",
            "\u001b[2;36m                    \u001b[0m         movie file written in      \u001b[2m                        \u001b[0m\n",
            "\u001b[2;36m                    \u001b[0m         \u001b[32m'/content/media/videos/pyt\u001b[0m \u001b[2m                        \u001b[0m\n",
            "\u001b[2;36m                    \u001b[0m         \u001b[32mhagoras_\u001b[0m\u001b[1;33mscene\u001b[0m\u001b[32m/480p15/parti\u001b[0m \u001b[2m                        \u001b[0m\n",
            "\u001b[2;36m                    \u001b[0m         \u001b[32mal_movie_files/Pythagorean\u001b[0m \u001b[2m                        \u001b[0m\n",
            "\u001b[2;36m                    \u001b[0m         \u001b[32mTheoremScene/624642324_286\u001b[0m \u001b[2m                        \u001b[0m\n",
            "\u001b[2;36m                    \u001b[0m         \u001b[32m3289603_2740926214.mp4'\u001b[0m    \u001b[2m                        \u001b[0m\n",
            "\u001b[2;36m[06/28/25 07:25:17]\u001b[0m\u001b[2;36m \u001b[0m\u001b[32mINFO    \u001b[0m Animation \u001b[32m27\u001b[0m : Partial     \u001b]8;id=348056;file:///usr/local/lib/python3.11/dist-packages/manim/scene/scene_file_writer.py\u001b\\\u001b[2mscene_file_writer.py\u001b[0m\u001b]8;;\u001b\\\u001b[2m:\u001b[0m\u001b]8;id=957687;file:///usr/local/lib/python3.11/dist-packages/manim/scene/scene_file_writer.py#588\u001b\\\u001b[2m588\u001b[0m\u001b]8;;\u001b\\\n",
            "\u001b[2;36m                    \u001b[0m         movie file written in      \u001b[2m                        \u001b[0m\n",
            "\u001b[2;36m                    \u001b[0m         \u001b[32m'/content/media/videos/pyt\u001b[0m \u001b[2m                        \u001b[0m\n",
            "\u001b[2;36m                    \u001b[0m         \u001b[32mhagoras_\u001b[0m\u001b[1;33mscene\u001b[0m\u001b[32m/480p15/parti\u001b[0m \u001b[2m                        \u001b[0m\n",
            "\u001b[2;36m                    \u001b[0m         \u001b[32mal_movie_files/Pythagorean\u001b[0m \u001b[2m                        \u001b[0m\n",
            "\u001b[2;36m                    \u001b[0m         \u001b[32mTheoremScene/624642324_167\u001b[0m \u001b[2m                        \u001b[0m\n",
            "\u001b[2;36m                    \u001b[0m         \u001b[32m6517100_1663882945.mp4'\u001b[0m    \u001b[2m                        \u001b[0m\n",
            "\u001b[2;36m                   \u001b[0m\u001b[2;36m \u001b[0m\u001b[32mINFO    \u001b[0m Animation \u001b[32m28\u001b[0m : Partial     \u001b]8;id=262022;file:///usr/local/lib/python3.11/dist-packages/manim/scene/scene_file_writer.py\u001b\\\u001b[2mscene_file_writer.py\u001b[0m\u001b]8;;\u001b\\\u001b[2m:\u001b[0m\u001b]8;id=21157;file:///usr/local/lib/python3.11/dist-packages/manim/scene/scene_file_writer.py#588\u001b\\\u001b[2m588\u001b[0m\u001b]8;;\u001b\\\n",
            "\u001b[2;36m                    \u001b[0m         movie file written in      \u001b[2m                        \u001b[0m\n",
            "\u001b[2;36m                    \u001b[0m         \u001b[32m'/content/media/videos/pyt\u001b[0m \u001b[2m                        \u001b[0m\n",
            "\u001b[2;36m                    \u001b[0m         \u001b[32mhagoras_\u001b[0m\u001b[1;33mscene\u001b[0m\u001b[32m/480p15/parti\u001b[0m \u001b[2m                        \u001b[0m\n",
            "\u001b[2;36m                    \u001b[0m         \u001b[32mal_movie_files/Pythagorean\u001b[0m \u001b[2m                        \u001b[0m\n",
            "\u001b[2;36m                    \u001b[0m         \u001b[32mTheoremScene/624642324_421\u001b[0m \u001b[2m                        \u001b[0m\n",
            "\u001b[2;36m                    \u001b[0m         \u001b[32m7992463_3588612714.mp4'\u001b[0m    \u001b[2m                        \u001b[0m\n",
            "\u001b[2;36m                   \u001b[0m\u001b[2;36m \u001b[0m\u001b[32mINFO    \u001b[0m Animation \u001b[32m29\u001b[0m : Partial     \u001b]8;id=945641;file:///usr/local/lib/python3.11/dist-packages/manim/scene/scene_file_writer.py\u001b\\\u001b[2mscene_file_writer.py\u001b[0m\u001b]8;;\u001b\\\u001b[2m:\u001b[0m\u001b]8;id=497838;file:///usr/local/lib/python3.11/dist-packages/manim/scene/scene_file_writer.py#588\u001b\\\u001b[2m588\u001b[0m\u001b]8;;\u001b\\\n",
            "\u001b[2;36m                    \u001b[0m         movie file written in      \u001b[2m                        \u001b[0m\n",
            "\u001b[2;36m                    \u001b[0m         \u001b[32m'/content/media/videos/pyt\u001b[0m \u001b[2m                        \u001b[0m\n",
            "\u001b[2;36m                    \u001b[0m         \u001b[32mhagoras_\u001b[0m\u001b[1;33mscene\u001b[0m\u001b[32m/480p15/parti\u001b[0m \u001b[2m                        \u001b[0m\n",
            "\u001b[2;36m                    \u001b[0m         \u001b[32mal_movie_files/Pythagorean\u001b[0m \u001b[2m                        \u001b[0m\n",
            "\u001b[2;36m                    \u001b[0m         \u001b[32mTheoremScene/624642324_178\u001b[0m \u001b[2m                        \u001b[0m\n",
            "\u001b[2;36m                    \u001b[0m         \u001b[32m9444023_1513390757.mp4'\u001b[0m    \u001b[2m                        \u001b[0m\n",
            "\u001b[2;36m[06/28/25 07:25:18]\u001b[0m\u001b[2;36m \u001b[0m\u001b[32mINFO    \u001b[0m Animation \u001b[32m30\u001b[0m : Partial     \u001b]8;id=762320;file:///usr/local/lib/python3.11/dist-packages/manim/scene/scene_file_writer.py\u001b\\\u001b[2mscene_file_writer.py\u001b[0m\u001b]8;;\u001b\\\u001b[2m:\u001b[0m\u001b]8;id=944526;file:///usr/local/lib/python3.11/dist-packages/manim/scene/scene_file_writer.py#588\u001b\\\u001b[2m588\u001b[0m\u001b]8;;\u001b\\\n",
            "\u001b[2;36m                    \u001b[0m         movie file written in      \u001b[2m                        \u001b[0m\n",
            "\u001b[2;36m                    \u001b[0m         \u001b[32m'/content/media/videos/pyt\u001b[0m \u001b[2m                        \u001b[0m\n",
            "\u001b[2;36m                    \u001b[0m         \u001b[32mhagoras_\u001b[0m\u001b[1;33mscene\u001b[0m\u001b[32m/480p15/parti\u001b[0m \u001b[2m                        \u001b[0m\n",
            "\u001b[2;36m                    \u001b[0m         \u001b[32mal_movie_files/Pythagorean\u001b[0m \u001b[2m                        \u001b[0m\n",
            "\u001b[2;36m                    \u001b[0m         \u001b[32mTheoremScene/624642324_421\u001b[0m \u001b[2m                        \u001b[0m\n",
            "\u001b[2;36m                    \u001b[0m         \u001b[32m7992463_2702227952.mp4'\u001b[0m    \u001b[2m                        \u001b[0m\n",
            "\u001b[2;36m                   \u001b[0m\u001b[2;36m \u001b[0m\u001b[32mINFO    \u001b[0m Animation \u001b[32m31\u001b[0m : Partial     \u001b]8;id=178750;file:///usr/local/lib/python3.11/dist-packages/manim/scene/scene_file_writer.py\u001b\\\u001b[2mscene_file_writer.py\u001b[0m\u001b]8;;\u001b\\\u001b[2m:\u001b[0m\u001b]8;id=116236;file:///usr/local/lib/python3.11/dist-packages/manim/scene/scene_file_writer.py#588\u001b\\\u001b[2m588\u001b[0m\u001b]8;;\u001b\\\n",
            "\u001b[2;36m                    \u001b[0m         movie file written in      \u001b[2m                        \u001b[0m\n",
            "\u001b[2;36m                    \u001b[0m         \u001b[32m'/content/media/videos/pyt\u001b[0m \u001b[2m                        \u001b[0m\n",
            "\u001b[2;36m                    \u001b[0m         \u001b[32mhagoras_\u001b[0m\u001b[1;33mscene\u001b[0m\u001b[32m/480p15/parti\u001b[0m \u001b[2m                        \u001b[0m\n",
            "\u001b[2;36m                    \u001b[0m         \u001b[32mal_movie_files/Pythagorean\u001b[0m \u001b[2m                        \u001b[0m\n",
            "\u001b[2;36m                    \u001b[0m         \u001b[32mTheoremScene/624642324_325\u001b[0m \u001b[2m                        \u001b[0m\n",
            "\u001b[2;36m                    \u001b[0m         \u001b[32m5475753_2110477327.mp4'\u001b[0m    \u001b[2m                        \u001b[0m\n",
            "\u001b[2;36m[06/28/25 07:25:19]\u001b[0m\u001b[2;36m \u001b[0m\u001b[32mINFO    \u001b[0m Animation \u001b[32m32\u001b[0m : Partial     \u001b]8;id=281549;file:///usr/local/lib/python3.11/dist-packages/manim/scene/scene_file_writer.py\u001b\\\u001b[2mscene_file_writer.py\u001b[0m\u001b]8;;\u001b\\\u001b[2m:\u001b[0m\u001b]8;id=382729;file:///usr/local/lib/python3.11/dist-packages/manim/scene/scene_file_writer.py#588\u001b\\\u001b[2m588\u001b[0m\u001b]8;;\u001b\\\n",
            "\u001b[2;36m                    \u001b[0m         movie file written in      \u001b[2m                        \u001b[0m\n",
            "\u001b[2;36m                    \u001b[0m         \u001b[32m'/content/media/videos/pyt\u001b[0m \u001b[2m                        \u001b[0m\n",
            "\u001b[2;36m                    \u001b[0m         \u001b[32mhagoras_\u001b[0m\u001b[1;33mscene\u001b[0m\u001b[32m/480p15/parti\u001b[0m \u001b[2m                        \u001b[0m\n",
            "\u001b[2;36m                    \u001b[0m         \u001b[32mal_movie_files/Pythagorean\u001b[0m \u001b[2m                        \u001b[0m\n",
            "\u001b[2;36m                    \u001b[0m         \u001b[32mTheoremScene/624642324_630\u001b[0m \u001b[2m                        \u001b[0m\n",
            "\u001b[2;36m                    \u001b[0m         \u001b[32m616799_1232239091.mp4'\u001b[0m     \u001b[2m                        \u001b[0m\n",
            "\u001b[2;36m[06/28/25 07:25:20]\u001b[0m\u001b[2;36m \u001b[0m\u001b[32mINFO    \u001b[0m Animation \u001b[32m33\u001b[0m : Partial     \u001b]8;id=897300;file:///usr/local/lib/python3.11/dist-packages/manim/scene/scene_file_writer.py\u001b\\\u001b[2mscene_file_writer.py\u001b[0m\u001b]8;;\u001b\\\u001b[2m:\u001b[0m\u001b]8;id=803253;file:///usr/local/lib/python3.11/dist-packages/manim/scene/scene_file_writer.py#588\u001b\\\u001b[2m588\u001b[0m\u001b]8;;\u001b\\\n",
            "\u001b[2;36m                    \u001b[0m         movie file written in      \u001b[2m                        \u001b[0m\n",
            "\u001b[2;36m                    \u001b[0m         \u001b[32m'/content/media/videos/pyt\u001b[0m \u001b[2m                        \u001b[0m\n",
            "\u001b[2;36m                    \u001b[0m         \u001b[32mhagoras_\u001b[0m\u001b[1;33mscene\u001b[0m\u001b[32m/480p15/parti\u001b[0m \u001b[2m                        \u001b[0m\n",
            "\u001b[2;36m                    \u001b[0m         \u001b[32mal_movie_files/Pythagorean\u001b[0m \u001b[2m                        \u001b[0m\n",
            "\u001b[2;36m                    \u001b[0m         \u001b[32mTheoremScene/624642324_421\u001b[0m \u001b[2m                        \u001b[0m\n",
            "\u001b[2;36m                    \u001b[0m         \u001b[32m7992463_3337949317.mp4'\u001b[0m    \u001b[2m                        \u001b[0m\n",
            "\u001b[2;36m                   \u001b[0m\u001b[2;36m \u001b[0m\u001b[32mINFO    \u001b[0m Animation \u001b[32m34\u001b[0m : Partial     \u001b]8;id=804115;file:///usr/local/lib/python3.11/dist-packages/manim/scene/scene_file_writer.py\u001b\\\u001b[2mscene_file_writer.py\u001b[0m\u001b]8;;\u001b\\\u001b[2m:\u001b[0m\u001b]8;id=243286;file:///usr/local/lib/python3.11/dist-packages/manim/scene/scene_file_writer.py#588\u001b\\\u001b[2m588\u001b[0m\u001b]8;;\u001b\\\n",
            "\u001b[2;36m                    \u001b[0m         movie file written in      \u001b[2m                        \u001b[0m\n",
            "\u001b[2;36m                    \u001b[0m         \u001b[32m'/content/media/videos/pyt\u001b[0m \u001b[2m                        \u001b[0m\n",
            "\u001b[2;36m                    \u001b[0m         \u001b[32mhagoras_\u001b[0m\u001b[1;33mscene\u001b[0m\u001b[32m/480p15/parti\u001b[0m \u001b[2m                        \u001b[0m\n",
            "\u001b[2;36m                    \u001b[0m         \u001b[32mal_movie_files/Pythagorean\u001b[0m \u001b[2m                        \u001b[0m\n",
            "\u001b[2;36m                    \u001b[0m         \u001b[32mTheoremScene/624642324_286\u001b[0m \u001b[2m                        \u001b[0m\n",
            "\u001b[2;36m                    \u001b[0m         \u001b[32m2051528_391083797.mp4'\u001b[0m     \u001b[2m                        \u001b[0m\n",
            "\u001b[2;36m                   \u001b[0m\u001b[2;36m \u001b[0m\u001b[32mINFO    \u001b[0m Animation \u001b[32m35\u001b[0m : Partial     \u001b]8;id=107406;file:///usr/local/lib/python3.11/dist-packages/manim/scene/scene_file_writer.py\u001b\\\u001b[2mscene_file_writer.py\u001b[0m\u001b]8;;\u001b\\\u001b[2m:\u001b[0m\u001b]8;id=156525;file:///usr/local/lib/python3.11/dist-packages/manim/scene/scene_file_writer.py#588\u001b\\\u001b[2m588\u001b[0m\u001b]8;;\u001b\\\n",
            "\u001b[2;36m                    \u001b[0m         movie file written in      \u001b[2m                        \u001b[0m\n",
            "\u001b[2;36m                    \u001b[0m         \u001b[32m'/content/media/videos/pyt\u001b[0m \u001b[2m                        \u001b[0m\n",
            "\u001b[2;36m                    \u001b[0m         \u001b[32mhagoras_\u001b[0m\u001b[1;33mscene\u001b[0m\u001b[32m/480p15/parti\u001b[0m \u001b[2m                        \u001b[0m\n",
            "\u001b[2;36m                    \u001b[0m         \u001b[32mal_movie_files/Pythagorean\u001b[0m \u001b[2m                        \u001b[0m\n",
            "\u001b[2;36m                    \u001b[0m         \u001b[32mTheoremScene/624642324_421\u001b[0m \u001b[2m                        \u001b[0m\n",
            "\u001b[2;36m                    \u001b[0m         \u001b[32m7992463_3067024747.mp4'\u001b[0m    \u001b[2m                        \u001b[0m\n",
            "\u001b[2;36m[06/28/25 07:25:21]\u001b[0m\u001b[2;36m \u001b[0m\u001b[32mINFO    \u001b[0m Animation \u001b[32m36\u001b[0m : Partial     \u001b]8;id=373252;file:///usr/local/lib/python3.11/dist-packages/manim/scene/scene_file_writer.py\u001b\\\u001b[2mscene_file_writer.py\u001b[0m\u001b]8;;\u001b\\\u001b[2m:\u001b[0m\u001b]8;id=338156;file:///usr/local/lib/python3.11/dist-packages/manim/scene/scene_file_writer.py#588\u001b\\\u001b[2m588\u001b[0m\u001b]8;;\u001b\\\n",
            "\u001b[2;36m                    \u001b[0m         movie file written in      \u001b[2m                        \u001b[0m\n",
            "\u001b[2;36m                    \u001b[0m         \u001b[32m'/content/media/videos/pyt\u001b[0m \u001b[2m                        \u001b[0m\n",
            "\u001b[2;36m                    \u001b[0m         \u001b[32mhagoras_\u001b[0m\u001b[1;33mscene\u001b[0m\u001b[32m/480p15/parti\u001b[0m \u001b[2m                        \u001b[0m\n",
            "\u001b[2;36m                    \u001b[0m         \u001b[32mal_movie_files/Pythagorean\u001b[0m \u001b[2m                        \u001b[0m\n",
            "\u001b[2;36m                    \u001b[0m         \u001b[32mTheoremScene/624642324_218\u001b[0m \u001b[2m                        \u001b[0m\n",
            "\u001b[2;36m                    \u001b[0m         \u001b[32m9498838_2688148851.mp4'\u001b[0m    \u001b[2m                        \u001b[0m\n",
            "\u001b[2;36m[06/28/25 07:25:22]\u001b[0m\u001b[2;36m \u001b[0m\u001b[32mINFO    \u001b[0m Animation \u001b[32m37\u001b[0m : Partial     \u001b]8;id=764244;file:///usr/local/lib/python3.11/dist-packages/manim/scene/scene_file_writer.py\u001b\\\u001b[2mscene_file_writer.py\u001b[0m\u001b]8;;\u001b\\\u001b[2m:\u001b[0m\u001b]8;id=450379;file:///usr/local/lib/python3.11/dist-packages/manim/scene/scene_file_writer.py#588\u001b\\\u001b[2m588\u001b[0m\u001b]8;;\u001b\\\n",
            "\u001b[2;36m                    \u001b[0m         movie file written in      \u001b[2m                        \u001b[0m\n",
            "\u001b[2;36m                    \u001b[0m         \u001b[32m'/content/media/videos/pyt\u001b[0m \u001b[2m                        \u001b[0m\n",
            "\u001b[2;36m                    \u001b[0m         \u001b[32mhagoras_\u001b[0m\u001b[1;33mscene\u001b[0m\u001b[32m/480p15/parti\u001b[0m \u001b[2m                        \u001b[0m\n",
            "\u001b[2;36m                    \u001b[0m         \u001b[32mal_movie_files/Pythagorean\u001b[0m \u001b[2m                        \u001b[0m\n",
            "\u001b[2;36m                    \u001b[0m         \u001b[32mTheoremScene/624642324_869\u001b[0m \u001b[2m                        \u001b[0m\n",
            "\u001b[2;36m                    \u001b[0m         \u001b[32m590506_3872051971.mp4'\u001b[0m     \u001b[2m                        \u001b[0m\n",
            "\u001b[2;36m                   \u001b[0m\u001b[2;36m \u001b[0m\u001b[32mINFO    \u001b[0m Animation \u001b[32m38\u001b[0m : Partial     \u001b]8;id=572829;file:///usr/local/lib/python3.11/dist-packages/manim/scene/scene_file_writer.py\u001b\\\u001b[2mscene_file_writer.py\u001b[0m\u001b]8;;\u001b\\\u001b[2m:\u001b[0m\u001b]8;id=777276;file:///usr/local/lib/python3.11/dist-packages/manim/scene/scene_file_writer.py#588\u001b\\\u001b[2m588\u001b[0m\u001b]8;;\u001b\\\n",
            "\u001b[2;36m                    \u001b[0m         movie file written in      \u001b[2m                        \u001b[0m\n",
            "\u001b[2;36m                    \u001b[0m         \u001b[32m'/content/media/videos/pyt\u001b[0m \u001b[2m                        \u001b[0m\n",
            "\u001b[2;36m                    \u001b[0m         \u001b[32mhagoras_\u001b[0m\u001b[1;33mscene\u001b[0m\u001b[32m/480p15/parti\u001b[0m \u001b[2m                        \u001b[0m\n",
            "\u001b[2;36m                    \u001b[0m         \u001b[32mal_movie_files/Pythagorean\u001b[0m \u001b[2m                        \u001b[0m\n",
            "\u001b[2;36m                    \u001b[0m         \u001b[32mTheoremScene/624642324_421\u001b[0m \u001b[2m                        \u001b[0m\n",
            "\u001b[2;36m                    \u001b[0m         \u001b[32m7992463_3988485703.mp4'\u001b[0m    \u001b[2m                        \u001b[0m\n",
            "\u001b[2;36m[06/28/25 07:25:23]\u001b[0m\u001b[2;36m \u001b[0m\u001b[32mINFO    \u001b[0m Animation \u001b[32m39\u001b[0m : Partial     \u001b]8;id=979995;file:///usr/local/lib/python3.11/dist-packages/manim/scene/scene_file_writer.py\u001b\\\u001b[2mscene_file_writer.py\u001b[0m\u001b]8;;\u001b\\\u001b[2m:\u001b[0m\u001b]8;id=598592;file:///usr/local/lib/python3.11/dist-packages/manim/scene/scene_file_writer.py#588\u001b\\\u001b[2m588\u001b[0m\u001b]8;;\u001b\\\n",
            "\u001b[2;36m                    \u001b[0m         movie file written in      \u001b[2m                        \u001b[0m\n",
            "\u001b[2;36m                    \u001b[0m         \u001b[32m'/content/media/videos/pyt\u001b[0m \u001b[2m                        \u001b[0m\n",
            "\u001b[2;36m                    \u001b[0m         \u001b[32mhagoras_\u001b[0m\u001b[1;33mscene\u001b[0m\u001b[32m/480p15/parti\u001b[0m \u001b[2m                        \u001b[0m\n",
            "\u001b[2;36m                    \u001b[0m         \u001b[32mal_movie_files/Pythagorean\u001b[0m \u001b[2m                        \u001b[0m\n",
            "\u001b[2;36m                    \u001b[0m         \u001b[32mTheoremScene/624642324_421\u001b[0m \u001b[2m                        \u001b[0m\n",
            "\u001b[2;36m                    \u001b[0m         \u001b[32m7011461_3267290588.mp4'\u001b[0m    \u001b[2m                        \u001b[0m\n",
            "\u001b[2;36m                   \u001b[0m\u001b[2;36m \u001b[0m\u001b[32mINFO    \u001b[0m Animation \u001b[32m40\u001b[0m : Partial     \u001b]8;id=210221;file:///usr/local/lib/python3.11/dist-packages/manim/scene/scene_file_writer.py\u001b\\\u001b[2mscene_file_writer.py\u001b[0m\u001b]8;;\u001b\\\u001b[2m:\u001b[0m\u001b]8;id=67639;file:///usr/local/lib/python3.11/dist-packages/manim/scene/scene_file_writer.py#588\u001b\\\u001b[2m588\u001b[0m\u001b]8;;\u001b\\\n",
            "\u001b[2;36m                    \u001b[0m         movie file written in      \u001b[2m                        \u001b[0m\n",
            "\u001b[2;36m                    \u001b[0m         \u001b[32m'/content/media/videos/pyt\u001b[0m \u001b[2m                        \u001b[0m\n",
            "\u001b[2;36m                    \u001b[0m         \u001b[32mhagoras_\u001b[0m\u001b[1;33mscene\u001b[0m\u001b[32m/480p15/parti\u001b[0m \u001b[2m                        \u001b[0m\n",
            "\u001b[2;36m                    \u001b[0m         \u001b[32mal_movie_files/Pythagorean\u001b[0m \u001b[2m                        \u001b[0m\n",
            "\u001b[2;36m                    \u001b[0m         \u001b[32mTheoremScene/624642324_421\u001b[0m \u001b[2m                        \u001b[0m\n",
            "\u001b[2;36m                    \u001b[0m         \u001b[32m7992463_196816728.mp4'\u001b[0m     \u001b[2m                        \u001b[0m\n",
            "\u001b[2;36m[06/28/25 07:25:25]\u001b[0m\u001b[2;36m \u001b[0m\u001b[32mINFO    \u001b[0m Animation \u001b[32m41\u001b[0m : Partial     \u001b]8;id=585261;file:///usr/local/lib/python3.11/dist-packages/manim/scene/scene_file_writer.py\u001b\\\u001b[2mscene_file_writer.py\u001b[0m\u001b]8;;\u001b\\\u001b[2m:\u001b[0m\u001b]8;id=305353;file:///usr/local/lib/python3.11/dist-packages/manim/scene/scene_file_writer.py#588\u001b\\\u001b[2m588\u001b[0m\u001b]8;;\u001b\\\n",
            "\u001b[2;36m                    \u001b[0m         movie file written in      \u001b[2m                        \u001b[0m\n",
            "\u001b[2;36m                    \u001b[0m         \u001b[32m'/content/media/videos/pyt\u001b[0m \u001b[2m                        \u001b[0m\n",
            "\u001b[2;36m                    \u001b[0m         \u001b[32mhagoras_\u001b[0m\u001b[1;33mscene\u001b[0m\u001b[32m/480p15/parti\u001b[0m \u001b[2m                        \u001b[0m\n",
            "\u001b[2;36m                    \u001b[0m         \u001b[32mal_movie_files/Pythagorean\u001b[0m \u001b[2m                        \u001b[0m\n",
            "\u001b[2;36m                    \u001b[0m         \u001b[32mTheoremScene/624642324_273\u001b[0m \u001b[2m                        \u001b[0m\n",
            "\u001b[2;36m                    \u001b[0m         \u001b[32m8051850_4492017.mp4'\u001b[0m       \u001b[2m                        \u001b[0m\n",
            "\u001b[2;36m                   \u001b[0m\u001b[2;36m \u001b[0m\u001b[32mINFO    \u001b[0m Animation \u001b[32m42\u001b[0m : Partial     \u001b]8;id=549514;file:///usr/local/lib/python3.11/dist-packages/manim/scene/scene_file_writer.py\u001b\\\u001b[2mscene_file_writer.py\u001b[0m\u001b]8;;\u001b\\\u001b[2m:\u001b[0m\u001b]8;id=826449;file:///usr/local/lib/python3.11/dist-packages/manim/scene/scene_file_writer.py#588\u001b\\\u001b[2m588\u001b[0m\u001b]8;;\u001b\\\n",
            "\u001b[2;36m                    \u001b[0m         movie file written in      \u001b[2m                        \u001b[0m\n",
            "\u001b[2;36m                    \u001b[0m         \u001b[32m'/content/media/videos/pyt\u001b[0m \u001b[2m                        \u001b[0m\n",
            "\u001b[2;36m                    \u001b[0m         \u001b[32mhagoras_\u001b[0m\u001b[1;33mscene\u001b[0m\u001b[32m/480p15/parti\u001b[0m \u001b[2m                        \u001b[0m\n",
            "\u001b[2;36m                    \u001b[0m         \u001b[32mal_movie_files/Pythagorean\u001b[0m \u001b[2m                        \u001b[0m\n",
            "\u001b[2;36m                    \u001b[0m         \u001b[32mTheoremScene/624642324_563\u001b[0m \u001b[2m                        \u001b[0m\n",
            "\u001b[2;36m                    \u001b[0m         \u001b[32m421490_997362555.mp4'\u001b[0m      \u001b[2m                        \u001b[0m\n",
            "\u001b[2;36m[06/28/25 07:25:26]\u001b[0m\u001b[2;36m \u001b[0m\u001b[32mINFO    \u001b[0m Animation \u001b[32m43\u001b[0m : Partial     \u001b]8;id=239317;file:///usr/local/lib/python3.11/dist-packages/manim/scene/scene_file_writer.py\u001b\\\u001b[2mscene_file_writer.py\u001b[0m\u001b]8;;\u001b\\\u001b[2m:\u001b[0m\u001b]8;id=723087;file:///usr/local/lib/python3.11/dist-packages/manim/scene/scene_file_writer.py#588\u001b\\\u001b[2m588\u001b[0m\u001b]8;;\u001b\\\n",
            "\u001b[2;36m                    \u001b[0m         movie file written in      \u001b[2m                        \u001b[0m\n",
            "\u001b[2;36m                    \u001b[0m         \u001b[32m'/content/media/videos/pyt\u001b[0m \u001b[2m                        \u001b[0m\n",
            "\u001b[2;36m                    \u001b[0m         \u001b[32mhagoras_\u001b[0m\u001b[1;33mscene\u001b[0m\u001b[32m/480p15/parti\u001b[0m \u001b[2m                        \u001b[0m\n",
            "\u001b[2;36m                    \u001b[0m         \u001b[32mal_movie_files/Pythagorean\u001b[0m \u001b[2m                        \u001b[0m\n",
            "\u001b[2;36m                    \u001b[0m         \u001b[32mTheoremScene/624642324_421\u001b[0m \u001b[2m                        \u001b[0m\n",
            "\u001b[2;36m                    \u001b[0m         \u001b[32m7992463_3026305734.mp4'\u001b[0m    \u001b[2m                        \u001b[0m\n",
            "\u001b[2;36m                   \u001b[0m\u001b[2;36m \u001b[0m\u001b[32mINFO    \u001b[0m Animation \u001b[32m44\u001b[0m : Partial     \u001b]8;id=784965;file:///usr/local/lib/python3.11/dist-packages/manim/scene/scene_file_writer.py\u001b\\\u001b[2mscene_file_writer.py\u001b[0m\u001b]8;;\u001b\\\u001b[2m:\u001b[0m\u001b]8;id=966612;file:///usr/local/lib/python3.11/dist-packages/manim/scene/scene_file_writer.py#588\u001b\\\u001b[2m588\u001b[0m\u001b]8;;\u001b\\\n",
            "\u001b[2;36m                    \u001b[0m         movie file written in      \u001b[2m                        \u001b[0m\n",
            "\u001b[2;36m                    \u001b[0m         \u001b[32m'/content/media/videos/pyt\u001b[0m \u001b[2m                        \u001b[0m\n",
            "\u001b[2;36m                    \u001b[0m         \u001b[32mhagoras_\u001b[0m\u001b[1;33mscene\u001b[0m\u001b[32m/480p15/parti\u001b[0m \u001b[2m                        \u001b[0m\n",
            "\u001b[2;36m                    \u001b[0m         \u001b[32mal_movie_files/Pythagorean\u001b[0m \u001b[2m                        \u001b[0m\n",
            "\u001b[2;36m                    \u001b[0m         \u001b[32mTheoremScene/624642324_490\u001b[0m \u001b[2m                        \u001b[0m\n",
            "\u001b[2;36m                    \u001b[0m         \u001b[32m313060_4080675140.mp4'\u001b[0m     \u001b[2m                        \u001b[0m\n",
            "\u001b[2;36m[06/28/25 07:25:27]\u001b[0m\u001b[2;36m \u001b[0m\u001b[32mINFO    \u001b[0m Animation \u001b[32m45\u001b[0m : Partial     \u001b]8;id=560646;file:///usr/local/lib/python3.11/dist-packages/manim/scene/scene_file_writer.py\u001b\\\u001b[2mscene_file_writer.py\u001b[0m\u001b]8;;\u001b\\\u001b[2m:\u001b[0m\u001b]8;id=761395;file:///usr/local/lib/python3.11/dist-packages/manim/scene/scene_file_writer.py#588\u001b\\\u001b[2m588\u001b[0m\u001b]8;;\u001b\\\n",
            "\u001b[2;36m                    \u001b[0m         movie file written in      \u001b[2m                        \u001b[0m\n",
            "\u001b[2;36m                    \u001b[0m         \u001b[32m'/content/media/videos/pyt\u001b[0m \u001b[2m                        \u001b[0m\n",
            "\u001b[2;36m                    \u001b[0m         \u001b[32mhagoras_\u001b[0m\u001b[1;33mscene\u001b[0m\u001b[32m/480p15/parti\u001b[0m \u001b[2m                        \u001b[0m\n",
            "\u001b[2;36m                    \u001b[0m         \u001b[32mal_movie_files/Pythagorean\u001b[0m \u001b[2m                        \u001b[0m\n",
            "\u001b[2;36m                    \u001b[0m         \u001b[32mTheoremScene/624642324_421\u001b[0m \u001b[2m                        \u001b[0m\n",
            "\u001b[2;36m                    \u001b[0m         \u001b[32m7992463_3769105704.mp4'\u001b[0m    \u001b[2m                        \u001b[0m\n",
            "\u001b[2;36m                   \u001b[0m\u001b[2;36m \u001b[0m\u001b[32mINFO    \u001b[0m Animation \u001b[32m46\u001b[0m : Partial     \u001b]8;id=809326;file:///usr/local/lib/python3.11/dist-packages/manim/scene/scene_file_writer.py\u001b\\\u001b[2mscene_file_writer.py\u001b[0m\u001b]8;;\u001b\\\u001b[2m:\u001b[0m\u001b]8;id=185820;file:///usr/local/lib/python3.11/dist-packages/manim/scene/scene_file_writer.py#588\u001b\\\u001b[2m588\u001b[0m\u001b]8;;\u001b\\\n",
            "\u001b[2;36m                    \u001b[0m         movie file written in      \u001b[2m                        \u001b[0m\n",
            "\u001b[2;36m                    \u001b[0m         \u001b[32m'/content/media/videos/pyt\u001b[0m \u001b[2m                        \u001b[0m\n",
            "\u001b[2;36m                    \u001b[0m         \u001b[32mhagoras_\u001b[0m\u001b[1;33mscene\u001b[0m\u001b[32m/480p15/parti\u001b[0m \u001b[2m                        \u001b[0m\n",
            "\u001b[2;36m                    \u001b[0m         \u001b[32mal_movie_files/Pythagorean\u001b[0m \u001b[2m                        \u001b[0m\n",
            "\u001b[2;36m                    \u001b[0m         \u001b[32mTheoremScene/624642324_273\u001b[0m \u001b[2m                        \u001b[0m\n",
            "\u001b[2;36m                    \u001b[0m         \u001b[32m8946182_1612480134.mp4'\u001b[0m    \u001b[2m                        \u001b[0m\n",
            "\u001b[2;36m[06/28/25 07:25:28]\u001b[0m\u001b[2;36m \u001b[0m\u001b[32mINFO    \u001b[0m Animation \u001b[32m47\u001b[0m : Partial     \u001b]8;id=452023;file:///usr/local/lib/python3.11/dist-packages/manim/scene/scene_file_writer.py\u001b\\\u001b[2mscene_file_writer.py\u001b[0m\u001b]8;;\u001b\\\u001b[2m:\u001b[0m\u001b]8;id=92924;file:///usr/local/lib/python3.11/dist-packages/manim/scene/scene_file_writer.py#588\u001b\\\u001b[2m588\u001b[0m\u001b]8;;\u001b\\\n",
            "\u001b[2;36m                    \u001b[0m         movie file written in      \u001b[2m                        \u001b[0m\n",
            "\u001b[2;36m                    \u001b[0m         \u001b[32m'/content/media/videos/pyt\u001b[0m \u001b[2m                        \u001b[0m\n",
            "\u001b[2;36m                    \u001b[0m         \u001b[32mhagoras_\u001b[0m\u001b[1;33mscene\u001b[0m\u001b[32m/480p15/parti\u001b[0m \u001b[2m                        \u001b[0m\n",
            "\u001b[2;36m                    \u001b[0m         \u001b[32mal_movie_files/Pythagorean\u001b[0m \u001b[2m                        \u001b[0m\n",
            "\u001b[2;36m                    \u001b[0m         \u001b[32mTheoremScene/624642324_736\u001b[0m \u001b[2m                        \u001b[0m\n",
            "\u001b[2;36m                    \u001b[0m         \u001b[32m249488_3548553954.mp4'\u001b[0m     \u001b[2m                        \u001b[0m\n",
            "\u001b[2;36m                   \u001b[0m\u001b[2;36m \u001b[0m\u001b[32mINFO    \u001b[0m Animation \u001b[32m48\u001b[0m : Partial     \u001b]8;id=882796;file:///usr/local/lib/python3.11/dist-packages/manim/scene/scene_file_writer.py\u001b\\\u001b[2mscene_file_writer.py\u001b[0m\u001b]8;;\u001b\\\u001b[2m:\u001b[0m\u001b]8;id=761832;file:///usr/local/lib/python3.11/dist-packages/manim/scene/scene_file_writer.py#588\u001b\\\u001b[2m588\u001b[0m\u001b]8;;\u001b\\\n",
            "\u001b[2;36m                    \u001b[0m         movie file written in      \u001b[2m                        \u001b[0m\n",
            "\u001b[2;36m                    \u001b[0m         \u001b[32m'/content/media/videos/pyt\u001b[0m \u001b[2m                        \u001b[0m\n",
            "\u001b[2;36m                    \u001b[0m         \u001b[32mhagoras_\u001b[0m\u001b[1;33mscene\u001b[0m\u001b[32m/480p15/parti\u001b[0m \u001b[2m                        \u001b[0m\n",
            "\u001b[2;36m                    \u001b[0m         \u001b[32mal_movie_files/Pythagorean\u001b[0m \u001b[2m                        \u001b[0m\n",
            "\u001b[2;36m                    \u001b[0m         \u001b[32mTheoremScene/624642324_421\u001b[0m \u001b[2m                        \u001b[0m\n",
            "\u001b[2;36m                    \u001b[0m         \u001b[32m7992463_1716795312.mp4'\u001b[0m    \u001b[2m                        \u001b[0m\n",
            "\u001b[2;36m[06/28/25 07:25:29]\u001b[0m\u001b[2;36m \u001b[0m\u001b[32mINFO    \u001b[0m Animation \u001b[32m49\u001b[0m : Partial     \u001b]8;id=275158;file:///usr/local/lib/python3.11/dist-packages/manim/scene/scene_file_writer.py\u001b\\\u001b[2mscene_file_writer.py\u001b[0m\u001b]8;;\u001b\\\u001b[2m:\u001b[0m\u001b]8;id=737453;file:///usr/local/lib/python3.11/dist-packages/manim/scene/scene_file_writer.py#588\u001b\\\u001b[2m588\u001b[0m\u001b]8;;\u001b\\\n",
            "\u001b[2;36m                    \u001b[0m         movie file written in      \u001b[2m                        \u001b[0m\n",
            "\u001b[2;36m                    \u001b[0m         \u001b[32m'/content/media/videos/pyt\u001b[0m \u001b[2m                        \u001b[0m\n",
            "\u001b[2;36m                    \u001b[0m         \u001b[32mhagoras_\u001b[0m\u001b[1;33mscene\u001b[0m\u001b[32m/480p15/parti\u001b[0m \u001b[2m                        \u001b[0m\n",
            "\u001b[2;36m                    \u001b[0m         \u001b[32mal_movie_files/Pythagorean\u001b[0m \u001b[2m                        \u001b[0m\n",
            "\u001b[2;36m                    \u001b[0m         \u001b[32mTheoremScene/624642324_338\u001b[0m \u001b[2m                        \u001b[0m\n",
            "\u001b[2;36m                    \u001b[0m         \u001b[32m1121430_969335510.mp4'\u001b[0m     \u001b[2m                        \u001b[0m\n",
            "\u001b[2;36m                   \u001b[0m\u001b[2;36m \u001b[0m\u001b[32mINFO    \u001b[0m Animation \u001b[32m50\u001b[0m : Partial     \u001b]8;id=952755;file:///usr/local/lib/python3.11/dist-packages/manim/scene/scene_file_writer.py\u001b\\\u001b[2mscene_file_writer.py\u001b[0m\u001b]8;;\u001b\\\u001b[2m:\u001b[0m\u001b]8;id=677553;file:///usr/local/lib/python3.11/dist-packages/manim/scene/scene_file_writer.py#588\u001b\\\u001b[2m588\u001b[0m\u001b]8;;\u001b\\\n",
            "\u001b[2;36m                    \u001b[0m         movie file written in      \u001b[2m                        \u001b[0m\n",
            "\u001b[2;36m                    \u001b[0m         \u001b[32m'/content/media/videos/pyt\u001b[0m \u001b[2m                        \u001b[0m\n",
            "\u001b[2;36m                    \u001b[0m         \u001b[32mhagoras_\u001b[0m\u001b[1;33mscene\u001b[0m\u001b[32m/480p15/parti\u001b[0m \u001b[2m                        \u001b[0m\n",
            "\u001b[2;36m                    \u001b[0m         \u001b[32mal_movie_files/Pythagorean\u001b[0m \u001b[2m                        \u001b[0m\n",
            "\u001b[2;36m                    \u001b[0m         \u001b[32mTheoremScene/624642324_284\u001b[0m \u001b[2m                        \u001b[0m\n",
            "\u001b[2;36m                    \u001b[0m         \u001b[32m4360058_2643758197.mp4'\u001b[0m    \u001b[2m                        \u001b[0m\n",
            "\u001b[2;36m[06/28/25 07:25:30]\u001b[0m\u001b[2;36m \u001b[0m\u001b[32mINFO    \u001b[0m Animation \u001b[32m51\u001b[0m : Partial     \u001b]8;id=480803;file:///usr/local/lib/python3.11/dist-packages/manim/scene/scene_file_writer.py\u001b\\\u001b[2mscene_file_writer.py\u001b[0m\u001b]8;;\u001b\\\u001b[2m:\u001b[0m\u001b]8;id=251524;file:///usr/local/lib/python3.11/dist-packages/manim/scene/scene_file_writer.py#588\u001b\\\u001b[2m588\u001b[0m\u001b]8;;\u001b\\\n",
            "\u001b[2;36m                    \u001b[0m         movie file written in      \u001b[2m                        \u001b[0m\n",
            "\u001b[2;36m                    \u001b[0m         \u001b[32m'/content/media/videos/pyt\u001b[0m \u001b[2m                        \u001b[0m\n",
            "\u001b[2;36m                    \u001b[0m         \u001b[32mhagoras_\u001b[0m\u001b[1;33mscene\u001b[0m\u001b[32m/480p15/parti\u001b[0m \u001b[2m                        \u001b[0m\n",
            "\u001b[2;36m                    \u001b[0m         \u001b[32mal_movie_files/Pythagorean\u001b[0m \u001b[2m                        \u001b[0m\n",
            "\u001b[2;36m                    \u001b[0m         \u001b[32mTheoremScene/624642324_419\u001b[0m \u001b[2m                        \u001b[0m\n",
            "\u001b[2;36m                    \u001b[0m         \u001b[32m5856227_2112606344.mp4'\u001b[0m    \u001b[2m                        \u001b[0m\n",
            "\u001b[2;36m                   \u001b[0m\u001b[2;36m \u001b[0m\u001b[32mINFO    \u001b[0m Animation \u001b[32m52\u001b[0m : Partial     \u001b]8;id=54985;file:///usr/local/lib/python3.11/dist-packages/manim/scene/scene_file_writer.py\u001b\\\u001b[2mscene_file_writer.py\u001b[0m\u001b]8;;\u001b\\\u001b[2m:\u001b[0m\u001b]8;id=139425;file:///usr/local/lib/python3.11/dist-packages/manim/scene/scene_file_writer.py#588\u001b\\\u001b[2m588\u001b[0m\u001b]8;;\u001b\\\n",
            "\u001b[2;36m                    \u001b[0m         movie file written in      \u001b[2m                        \u001b[0m\n",
            "\u001b[2;36m                    \u001b[0m         \u001b[32m'/content/media/videos/pyt\u001b[0m \u001b[2m                        \u001b[0m\n",
            "\u001b[2;36m                    \u001b[0m         \u001b[32mhagoras_\u001b[0m\u001b[1;33mscene\u001b[0m\u001b[32m/480p15/parti\u001b[0m \u001b[2m                        \u001b[0m\n",
            "\u001b[2;36m                    \u001b[0m         \u001b[32mal_movie_files/Pythagorean\u001b[0m \u001b[2m                        \u001b[0m\n",
            "\u001b[2;36m                    \u001b[0m         \u001b[32mTheoremScene/624642324_340\u001b[0m \u001b[2m                        \u001b[0m\n",
            "\u001b[2;36m                    \u001b[0m         \u001b[32m8898968_3117085859.mp4'\u001b[0m    \u001b[2m                        \u001b[0m\n",
            "\u001b[2;36m[06/28/25 07:25:31]\u001b[0m\u001b[2;36m \u001b[0m\u001b[32mINFO    \u001b[0m Animation \u001b[32m53\u001b[0m : Partial     \u001b]8;id=509113;file:///usr/local/lib/python3.11/dist-packages/manim/scene/scene_file_writer.py\u001b\\\u001b[2mscene_file_writer.py\u001b[0m\u001b]8;;\u001b\\\u001b[2m:\u001b[0m\u001b]8;id=908764;file:///usr/local/lib/python3.11/dist-packages/manim/scene/scene_file_writer.py#588\u001b\\\u001b[2m588\u001b[0m\u001b]8;;\u001b\\\n",
            "\u001b[2;36m                    \u001b[0m         movie file written in      \u001b[2m                        \u001b[0m\n",
            "\u001b[2;36m                    \u001b[0m         \u001b[32m'/content/media/videos/pyt\u001b[0m \u001b[2m                        \u001b[0m\n",
            "\u001b[2;36m                    \u001b[0m         \u001b[32mhagoras_\u001b[0m\u001b[1;33mscene\u001b[0m\u001b[32m/480p15/parti\u001b[0m \u001b[2m                        \u001b[0m\n",
            "\u001b[2;36m                    \u001b[0m         \u001b[32mal_movie_files/Pythagorean\u001b[0m \u001b[2m                        \u001b[0m\n",
            "\u001b[2;36m                    \u001b[0m         \u001b[32mTheoremScene/624642324_118\u001b[0m \u001b[2m                        \u001b[0m\n",
            "\u001b[2;36m                    \u001b[0m         \u001b[32m723710_1859579217.mp4'\u001b[0m     \u001b[2m                        \u001b[0m\n",
            "\u001b[2;36m                   \u001b[0m\u001b[2;36m \u001b[0m\u001b[32mINFO    \u001b[0m Animation \u001b[32m54\u001b[0m : Partial     \u001b]8;id=525901;file:///usr/local/lib/python3.11/dist-packages/manim/scene/scene_file_writer.py\u001b\\\u001b[2mscene_file_writer.py\u001b[0m\u001b]8;;\u001b\\\u001b[2m:\u001b[0m\u001b]8;id=742747;file:///usr/local/lib/python3.11/dist-packages/manim/scene/scene_file_writer.py#588\u001b\\\u001b[2m588\u001b[0m\u001b]8;;\u001b\\\n",
            "\u001b[2;36m                    \u001b[0m         movie file written in      \u001b[2m                        \u001b[0m\n",
            "\u001b[2;36m                    \u001b[0m         \u001b[32m'/content/media/videos/pyt\u001b[0m \u001b[2m                        \u001b[0m\n",
            "\u001b[2;36m                    \u001b[0m         \u001b[32mhagoras_\u001b[0m\u001b[1;33mscene\u001b[0m\u001b[32m/480p15/parti\u001b[0m \u001b[2m                        \u001b[0m\n",
            "\u001b[2;36m                    \u001b[0m         \u001b[32mal_movie_files/Pythagorean\u001b[0m \u001b[2m                        \u001b[0m\n",
            "\u001b[2;36m                    \u001b[0m         \u001b[32mTheoremScene/624642324_895\u001b[0m \u001b[2m                        \u001b[0m\n",
            "\u001b[2;36m                    \u001b[0m         \u001b[32m808155_1699106586.mp4'\u001b[0m     \u001b[2m                        \u001b[0m\n",
            "\u001b[2;36m                   \u001b[0m\u001b[2;36m \u001b[0m\u001b[32mINFO    \u001b[0m Animation \u001b[32m55\u001b[0m : Partial     \u001b]8;id=134033;file:///usr/local/lib/python3.11/dist-packages/manim/scene/scene_file_writer.py\u001b\\\u001b[2mscene_file_writer.py\u001b[0m\u001b]8;;\u001b\\\u001b[2m:\u001b[0m\u001b]8;id=185370;file:///usr/local/lib/python3.11/dist-packages/manim/scene/scene_file_writer.py#588\u001b\\\u001b[2m588\u001b[0m\u001b]8;;\u001b\\\n",
            "\u001b[2;36m                    \u001b[0m         movie file written in      \u001b[2m                        \u001b[0m\n",
            "\u001b[2;36m                    \u001b[0m         \u001b[32m'/content/media/videos/pyt\u001b[0m \u001b[2m                        \u001b[0m\n",
            "\u001b[2;36m                    \u001b[0m         \u001b[32mhagoras_\u001b[0m\u001b[1;33mscene\u001b[0m\u001b[32m/480p15/parti\u001b[0m \u001b[2m                        \u001b[0m\n",
            "\u001b[2;36m                    \u001b[0m         \u001b[32mal_movie_files/Pythagorean\u001b[0m \u001b[2m                        \u001b[0m\n",
            "\u001b[2;36m                    \u001b[0m         \u001b[32mTheoremScene/624642324_363\u001b[0m \u001b[2m                        \u001b[0m\n",
            "\u001b[2;36m                    \u001b[0m         \u001b[32m9128633_527443410.mp4'\u001b[0m     \u001b[2m                        \u001b[0m\n",
            "\u001b[2;36m[06/28/25 07:25:32]\u001b[0m\u001b[2;36m \u001b[0m\u001b[32mINFO    \u001b[0m Animation \u001b[32m56\u001b[0m : Partial     \u001b]8;id=579843;file:///usr/local/lib/python3.11/dist-packages/manim/scene/scene_file_writer.py\u001b\\\u001b[2mscene_file_writer.py\u001b[0m\u001b]8;;\u001b\\\u001b[2m:\u001b[0m\u001b]8;id=837929;file:///usr/local/lib/python3.11/dist-packages/manim/scene/scene_file_writer.py#588\u001b\\\u001b[2m588\u001b[0m\u001b]8;;\u001b\\\n",
            "\u001b[2;36m                    \u001b[0m         movie file written in      \u001b[2m                        \u001b[0m\n",
            "\u001b[2;36m                    \u001b[0m         \u001b[32m'/content/media/videos/pyt\u001b[0m \u001b[2m                        \u001b[0m\n",
            "\u001b[2;36m                    \u001b[0m         \u001b[32mhagoras_\u001b[0m\u001b[1;33mscene\u001b[0m\u001b[32m/480p15/parti\u001b[0m \u001b[2m                        \u001b[0m\n",
            "\u001b[2;36m                    \u001b[0m         \u001b[32mal_movie_files/Pythagorean\u001b[0m \u001b[2m                        \u001b[0m\n",
            "\u001b[2;36m                    \u001b[0m         \u001b[32mTheoremScene/624642324_284\u001b[0m \u001b[2m                        \u001b[0m\n",
            "\u001b[2;36m                    \u001b[0m         \u001b[32m4360058_1230609105.mp4'\u001b[0m    \u001b[2m                        \u001b[0m\n",
            "\u001b[2;36m                   \u001b[0m\u001b[2;36m \u001b[0m\u001b[32mINFO    \u001b[0m Animation \u001b[32m57\u001b[0m : Partial     \u001b]8;id=848208;file:///usr/local/lib/python3.11/dist-packages/manim/scene/scene_file_writer.py\u001b\\\u001b[2mscene_file_writer.py\u001b[0m\u001b]8;;\u001b\\\u001b[2m:\u001b[0m\u001b]8;id=816114;file:///usr/local/lib/python3.11/dist-packages/manim/scene/scene_file_writer.py#588\u001b\\\u001b[2m588\u001b[0m\u001b]8;;\u001b\\\n",
            "\u001b[2;36m                    \u001b[0m         movie file written in      \u001b[2m                        \u001b[0m\n",
            "\u001b[2;36m                    \u001b[0m         \u001b[32m'/content/media/videos/pyt\u001b[0m \u001b[2m                        \u001b[0m\n",
            "\u001b[2;36m                    \u001b[0m         \u001b[32mhagoras_\u001b[0m\u001b[1;33mscene\u001b[0m\u001b[32m/480p15/parti\u001b[0m \u001b[2m                        \u001b[0m\n",
            "\u001b[2;36m                    \u001b[0m         \u001b[32mal_movie_files/Pythagorean\u001b[0m \u001b[2m                        \u001b[0m\n",
            "\u001b[2;36m                    \u001b[0m         \u001b[32mTheoremScene/624642324_677\u001b[0m \u001b[2m                        \u001b[0m\n",
            "\u001b[2;36m                    \u001b[0m         \u001b[32m019512_3004657523.mp4'\u001b[0m     \u001b[2m                        \u001b[0m\n",
            "\u001b[2;36m[06/28/25 07:25:35]\u001b[0m\u001b[2;36m \u001b[0m\u001b[32mINFO    \u001b[0m Animation \u001b[32m58\u001b[0m : Partial     \u001b]8;id=708549;file:///usr/local/lib/python3.11/dist-packages/manim/scene/scene_file_writer.py\u001b\\\u001b[2mscene_file_writer.py\u001b[0m\u001b]8;;\u001b\\\u001b[2m:\u001b[0m\u001b]8;id=920451;file:///usr/local/lib/python3.11/dist-packages/manim/scene/scene_file_writer.py#588\u001b\\\u001b[2m588\u001b[0m\u001b]8;;\u001b\\\n",
            "\u001b[2;36m                    \u001b[0m         movie file written in      \u001b[2m                        \u001b[0m\n",
            "\u001b[2;36m                    \u001b[0m         \u001b[32m'/content/media/videos/pyt\u001b[0m \u001b[2m                        \u001b[0m\n",
            "\u001b[2;36m                    \u001b[0m         \u001b[32mhagoras_\u001b[0m\u001b[1;33mscene\u001b[0m\u001b[32m/480p15/parti\u001b[0m \u001b[2m                        \u001b[0m\n",
            "\u001b[2;36m                    \u001b[0m         \u001b[32mal_movie_files/Pythagorean\u001b[0m \u001b[2m                        \u001b[0m\n",
            "\u001b[2;36m                    \u001b[0m         \u001b[32mTheoremScene/624642324_724\u001b[0m \u001b[2m                        \u001b[0m\n",
            "\u001b[2;36m                    \u001b[0m         \u001b[32m163498_2291016431.mp4'\u001b[0m     \u001b[2m                        \u001b[0m\n",
            "\u001b[2;36m[06/28/25 07:25:37]\u001b[0m\u001b[2;36m \u001b[0m\u001b[32mINFO    \u001b[0m Animation \u001b[32m59\u001b[0m : Partial     \u001b]8;id=181436;file:///usr/local/lib/python3.11/dist-packages/manim/scene/scene_file_writer.py\u001b\\\u001b[2mscene_file_writer.py\u001b[0m\u001b]8;;\u001b\\\u001b[2m:\u001b[0m\u001b]8;id=357095;file:///usr/local/lib/python3.11/dist-packages/manim/scene/scene_file_writer.py#588\u001b\\\u001b[2m588\u001b[0m\u001b]8;;\u001b\\\n",
            "\u001b[2;36m                    \u001b[0m         movie file written in      \u001b[2m                        \u001b[0m\n",
            "\u001b[2;36m                    \u001b[0m         \u001b[32m'/content/media/videos/pyt\u001b[0m \u001b[2m                        \u001b[0m\n",
            "\u001b[2;36m                    \u001b[0m         \u001b[32mhagoras_\u001b[0m\u001b[1;33mscene\u001b[0m\u001b[32m/480p15/parti\u001b[0m \u001b[2m                        \u001b[0m\n",
            "\u001b[2;36m                    \u001b[0m         \u001b[32mal_movie_files/Pythagorean\u001b[0m \u001b[2m                        \u001b[0m\n",
            "\u001b[2;36m                    \u001b[0m         \u001b[32mTheoremScene/624642324_255\u001b[0m \u001b[2m                        \u001b[0m\n",
            "\u001b[2;36m                    \u001b[0m         \u001b[32m2855209_987520695.mp4'\u001b[0m     \u001b[2m                        \u001b[0m\n",
            "\u001b[2;36m[06/28/25 07:25:40]\u001b[0m\u001b[2;36m \u001b[0m\u001b[32mINFO    \u001b[0m Animation \u001b[32m60\u001b[0m : Partial     \u001b]8;id=461949;file:///usr/local/lib/python3.11/dist-packages/manim/scene/scene_file_writer.py\u001b\\\u001b[2mscene_file_writer.py\u001b[0m\u001b]8;;\u001b\\\u001b[2m:\u001b[0m\u001b]8;id=232990;file:///usr/local/lib/python3.11/dist-packages/manim/scene/scene_file_writer.py#588\u001b\\\u001b[2m588\u001b[0m\u001b]8;;\u001b\\\n",
            "\u001b[2;36m                    \u001b[0m         movie file written in      \u001b[2m                        \u001b[0m\n",
            "\u001b[2;36m                    \u001b[0m         \u001b[32m'/content/media/videos/pyt\u001b[0m \u001b[2m                        \u001b[0m\n",
            "\u001b[2;36m                    \u001b[0m         \u001b[32mhagoras_\u001b[0m\u001b[1;33mscene\u001b[0m\u001b[32m/480p15/parti\u001b[0m \u001b[2m                        \u001b[0m\n",
            "\u001b[2;36m                    \u001b[0m         \u001b[32mal_movie_files/Pythagorean\u001b[0m \u001b[2m                        \u001b[0m\n",
            "\u001b[2;36m                    \u001b[0m         \u001b[32mTheoremScene/624642324_385\u001b[0m \u001b[2m                        \u001b[0m\n",
            "\u001b[2;36m                    \u001b[0m         \u001b[32m6568372_1524891509.mp4'\u001b[0m    \u001b[2m                        \u001b[0m\n",
            "\u001b[2;36m                   \u001b[0m\u001b[2;36m \u001b[0m\u001b[32mINFO    \u001b[0m Animation \u001b[32m61\u001b[0m : Partial     \u001b]8;id=135892;file:///usr/local/lib/python3.11/dist-packages/manim/scene/scene_file_writer.py\u001b\\\u001b[2mscene_file_writer.py\u001b[0m\u001b]8;;\u001b\\\u001b[2m:\u001b[0m\u001b]8;id=385720;file:///usr/local/lib/python3.11/dist-packages/manim/scene/scene_file_writer.py#588\u001b\\\u001b[2m588\u001b[0m\u001b]8;;\u001b\\\n",
            "\u001b[2;36m                    \u001b[0m         movie file written in      \u001b[2m                        \u001b[0m\n",
            "\u001b[2;36m                    \u001b[0m         \u001b[32m'/content/media/videos/pyt\u001b[0m \u001b[2m                        \u001b[0m\n",
            "\u001b[2;36m                    \u001b[0m         \u001b[32mhagoras_\u001b[0m\u001b[1;33mscene\u001b[0m\u001b[32m/480p15/parti\u001b[0m \u001b[2m                        \u001b[0m\n",
            "\u001b[2;36m                    \u001b[0m         \u001b[32mal_movie_files/Pythagorean\u001b[0m \u001b[2m                        \u001b[0m\n",
            "\u001b[2;36m                    \u001b[0m         \u001b[32mTheoremScene/624642324_823\u001b[0m \u001b[2m                        \u001b[0m\n",
            "\u001b[2;36m                    \u001b[0m         \u001b[32m29883_2435103590.mp4'\u001b[0m      \u001b[2m                        \u001b[0m\n",
            "\u001b[2;36m                   \u001b[0m\u001b[2;36m \u001b[0m\u001b[32mINFO    \u001b[0m Animation \u001b[32m62\u001b[0m : Partial     \u001b]8;id=209589;file:///usr/local/lib/python3.11/dist-packages/manim/scene/scene_file_writer.py\u001b\\\u001b[2mscene_file_writer.py\u001b[0m\u001b]8;;\u001b\\\u001b[2m:\u001b[0m\u001b]8;id=372327;file:///usr/local/lib/python3.11/dist-packages/manim/scene/scene_file_writer.py#588\u001b\\\u001b[2m588\u001b[0m\u001b]8;;\u001b\\\n",
            "\u001b[2;36m                    \u001b[0m         movie file written in      \u001b[2m                        \u001b[0m\n",
            "\u001b[2;36m                    \u001b[0m         \u001b[32m'/content/media/videos/pyt\u001b[0m \u001b[2m                        \u001b[0m\n",
            "\u001b[2;36m                    \u001b[0m         \u001b[32mhagoras_\u001b[0m\u001b[1;33mscene\u001b[0m\u001b[32m/480p15/parti\u001b[0m \u001b[2m                        \u001b[0m\n",
            "\u001b[2;36m                    \u001b[0m         \u001b[32mal_movie_files/Pythagorean\u001b[0m \u001b[2m                        \u001b[0m\n",
            "\u001b[2;36m                    \u001b[0m         \u001b[32mTheoremScene/624642324_284\u001b[0m \u001b[2m                        \u001b[0m\n",
            "\u001b[2;36m                    \u001b[0m         \u001b[32m4360058_1143913369.mp4'\u001b[0m    \u001b[2m                        \u001b[0m\n",
            "\u001b[2;36m[06/28/25 07:25:41]\u001b[0m\u001b[2;36m \u001b[0m\u001b[32mINFO    \u001b[0m Animation \u001b[32m63\u001b[0m : Partial     \u001b]8;id=306112;file:///usr/local/lib/python3.11/dist-packages/manim/scene/scene_file_writer.py\u001b\\\u001b[2mscene_file_writer.py\u001b[0m\u001b]8;;\u001b\\\u001b[2m:\u001b[0m\u001b]8;id=414360;file:///usr/local/lib/python3.11/dist-packages/manim/scene/scene_file_writer.py#588\u001b\\\u001b[2m588\u001b[0m\u001b]8;;\u001b\\\n",
            "\u001b[2;36m                    \u001b[0m         movie file written in      \u001b[2m                        \u001b[0m\n",
            "\u001b[2;36m                    \u001b[0m         \u001b[32m'/content/media/videos/pyt\u001b[0m \u001b[2m                        \u001b[0m\n",
            "\u001b[2;36m                    \u001b[0m         \u001b[32mhagoras_\u001b[0m\u001b[1;33mscene\u001b[0m\u001b[32m/480p15/parti\u001b[0m \u001b[2m                        \u001b[0m\n",
            "\u001b[2;36m                    \u001b[0m         \u001b[32mal_movie_files/Pythagorean\u001b[0m \u001b[2m                        \u001b[0m\n",
            "\u001b[2;36m                    \u001b[0m         \u001b[32mTheoremScene/624642324_280\u001b[0m \u001b[2m                        \u001b[0m\n",
            "\u001b[2;36m                    \u001b[0m         \u001b[32m2252842_3900359670.mp4'\u001b[0m    \u001b[2m                        \u001b[0m\n",
            "\u001b[2;36m                   \u001b[0m\u001b[2;36m \u001b[0m\u001b[32mINFO    \u001b[0m Combining to Movie file.   \u001b]8;id=156902;file:///usr/local/lib/python3.11/dist-packages/manim/scene/scene_file_writer.py\u001b\\\u001b[2mscene_file_writer.py\u001b[0m\u001b]8;;\u001b\\\u001b[2m:\u001b[0m\u001b]8;id=490727;file:///usr/local/lib/python3.11/dist-packages/manim/scene/scene_file_writer.py#739\u001b\\\u001b[2m739\u001b[0m\u001b]8;;\u001b\\\n",
            "\u001b[2;36m                   \u001b[0m\u001b[2;36m \u001b[0m\u001b[32mINFO    \u001b[0m                            \u001b]8;id=405661;file:///usr/local/lib/python3.11/dist-packages/manim/scene/scene_file_writer.py\u001b\\\u001b[2mscene_file_writer.py\u001b[0m\u001b]8;;\u001b\\\u001b[2m:\u001b[0m\u001b]8;id=415137;file:///usr/local/lib/python3.11/dist-packages/manim/scene/scene_file_writer.py#886\u001b\\\u001b[2m886\u001b[0m\u001b]8;;\u001b\\\n",
            "\u001b[2;36m                    \u001b[0m         \u001b[1;33mFile\u001b[0m ready at              \u001b[2m                        \u001b[0m\n",
            "\u001b[2;36m                    \u001b[0m         \u001b[32m'/content/media/videos/pyt\u001b[0m \u001b[2m                        \u001b[0m\n",
            "\u001b[2;36m                    \u001b[0m         \u001b[32mhagoras_\u001b[0m\u001b[1;33mscene\u001b[0m\u001b[32m/480p15/Pytha\u001b[0m \u001b[2m                        \u001b[0m\n",
            "\u001b[2;36m                    \u001b[0m         \u001b[32mgoreanTheoremScene.mp4'\u001b[0m    \u001b[2m                        \u001b[0m\n",
            "\u001b[2;36m                    \u001b[0m                                    \u001b[2m                        \u001b[0m\n",
            "\u001b[2;36m                   \u001b[0m\u001b[2;36m \u001b[0m\u001b[32mINFO    \u001b[0m The partial movie          \u001b]8;id=410821;file:///usr/local/lib/python3.11/dist-packages/manim/scene/scene_file_writer.py\u001b\\\u001b[2mscene_file_writer.py\u001b[0m\u001b]8;;\u001b\\\u001b[2m:\u001b[0m\u001b]8;id=649641;file:///usr/local/lib/python3.11/dist-packages/manim/scene/scene_file_writer.py#856\u001b\\\u001b[2m856\u001b[0m\u001b]8;;\u001b\\\n",
            "\u001b[2;36m                    \u001b[0m         directory is full \u001b[1m(\u001b[0m> \u001b[32m100\u001b[0m   \u001b[2m                        \u001b[0m\n",
            "\u001b[2;36m                    \u001b[0m         files\u001b[1m)\u001b[0m. Therefore, manim   \u001b[2m                        \u001b[0m\n",
            "\u001b[2;36m                    \u001b[0m         has removed the \u001b[32m35\u001b[0m oldest  \u001b[2m                        \u001b[0m\n",
            "\u001b[2;36m                    \u001b[0m         \u001b[1;35mfile\u001b[0m\u001b[1m(\u001b[0ms\u001b[1m)\u001b[0m. You can change    \u001b[2m                        \u001b[0m\n",
            "\u001b[2;36m                    \u001b[0m         this behaviour by changing \u001b[2m                        \u001b[0m\n",
            "\u001b[2;36m                    \u001b[0m         max_files_cached in        \u001b[2m                        \u001b[0m\n",
            "\u001b[2;36m                    \u001b[0m         config.                    \u001b[2m                        \u001b[0m\n",
            "\u001b[2;36m                   \u001b[0m\u001b[2;36m \u001b[0m\u001b[32mINFO    \u001b[0m \u001b[1;33mRendered\u001b[0m PythagoreanTheoremScene       \u001b]8;id=640545;file:///usr/local/lib/python3.11/dist-packages/manim/scene/scene.py\u001b\\\u001b[2mscene.py\u001b[0m\u001b]8;;\u001b\\\u001b[2m:\u001b[0m\u001b]8;id=805241;file:///usr/local/lib/python3.11/dist-packages/manim/scene/scene.py#255\u001b\\\u001b[2m255\u001b[0m\u001b]8;;\u001b\\\n",
            "\u001b[2;36m                    \u001b[0m         \u001b[1;33mPlayed\u001b[0m \u001b[32m64\u001b[0m \u001b[1;33manimations\u001b[0m                   \u001b[2m            \u001b[0m\n",
            "Error: no \"view\" mailcap rules found for type \"video/mp4\"\n",
            "/usr/bin/xdg-open: 882: www-browser: not found\n",
            "/usr/bin/xdg-open: 882: links2: not found\n",
            "/usr/bin/xdg-open: 882: elinks: not found\n",
            "/usr/bin/xdg-open: 882: links: not found\n",
            "/usr/bin/xdg-open: 882: lynx: not found\n",
            "/usr/bin/xdg-open: 882: w3m: not found\n",
            "xdg-open: no method available for opening '/content/media/videos/pythagoras_scene/480p15/PythagoreanTheoremScene.mp4'\n",
            "\u001b[2;36m                   \u001b[0m\u001b[2;36m \u001b[0m\u001b[32mINFO    \u001b[0m Previewed \u001b[1;33mFile\u001b[0m at:                  \u001b]8;id=316294;file:///usr/local/lib/python3.11/dist-packages/manim/utils/file_ops.py\u001b\\\u001b[2mfile_ops.py\u001b[0m\u001b]8;;\u001b\\\u001b[2m:\u001b[0m\u001b]8;id=776039;file:///usr/local/lib/python3.11/dist-packages/manim/utils/file_ops.py#237\u001b\\\u001b[2m237\u001b[0m\u001b]8;;\u001b\\\n",
            "\u001b[2;36m                    \u001b[0m         \u001b[32m'/content/media/videos/pythagoras_\u001b[0m\u001b[1;33ms\u001b[0m \u001b[2m               \u001b[0m\n",
            "\u001b[2;36m                    \u001b[0m         \u001b[1;33mcene\u001b[0m\u001b[32m/480p15/PythagoreanTheoremScene\u001b[0m \u001b[2m               \u001b[0m\n",
            "\u001b[2;36m                    \u001b[0m         \u001b[32m.mp4'\u001b[0m                               \u001b[2m               \u001b[0m\n"
          ]
        }
      ]
    },
    {
      "cell_type": "code",
      "source": [
        "from IPython.display import Video\n",
        "Video(\"media/videos/pythagoras_scene/PythagoreanTheoremScene.mp4\", embed=True)"
      ],
      "metadata": {
        "colab": {
          "base_uri": "https://localhost:8080/",
          "height": 171
        },
        "id": "FJLqv_ZraVcg",
        "outputId": "729862d7-941d-442a-e7fd-f39bef87ac47"
      },
      "execution_count": 125,
      "outputs": [
        {
          "output_type": "execute_result",
          "data": {
            "text/plain": [
              "<IPython.core.display.Video object>"
            ],
            "text/html": [
              "<video controls  >\n",
              " <source src=\"data:None;base64,media/videos/pythagoras_scene/PythagoreanTheoremScene.mp4\" type=\"None\">\n",
              " Your browser does not support the video tag.\n",
              " </video>"
            ]
          },
          "metadata": {},
          "execution_count": 125
        }
      ]
    },
    {
      "cell_type": "code",
      "source": [
        "# # 📌 Step 1: Install FFmpeg (only once per Colab session)\n",
        "# !apt update\n",
        "# !apt install -y ffmpeg\n",
        "\n",
        "# # 📌 Step 3: Set the directory path containing your Manim output clips\n",
        "# import os\n",
        "\n",
        "# # 👇 Change this path to your actual clip folder inside Google Drive\n",
        "# video_dir = \"/content/media/videos/p/480p15/partial_movie_files/ConceptExplanationScene\"\n",
        "# output_file = \"/content/media/videos/poem/480p15/ConceptExplanationScene.mp4\"\n",
        "# file_list_txt = \"/content/video_list.txt\"\n",
        "\n",
        "# # 📌 Step 4: Generate list of .mp4 files to combine (in order)\n",
        "# video_files = sorted(\n",
        "#     [f for f in os.listdir(video_dir) if f.endswith(\".mp4\")],\n",
        "#     key=lambda x: os.path.getmtime(os.path.join(video_dir, x))\n",
        "# )\n",
        "\n",
        "# # Write file list in FFmpeg concat format\n",
        "# with open(file_list_txt, \"w\") as f:\n",
        "#     for video in video_files:\n",
        "#         f.write(f\"file '{os.path.join(video_dir, video)}'\\n\")\n",
        "\n",
        "# # 📌 Step 5: Run FFmpeg to concatenate the video clips\n",
        "# !ffmpeg -f concat -safe 0 -i /content/video_list.txt -c copy \"{output_file}\"\n",
        "\n",
        "# print(\"✅ Final video created at:\", output_file)\n"
      ],
      "metadata": {
        "id": "rDQS8088QbTA"
      },
      "execution_count": 126,
      "outputs": []
    },
    {
      "cell_type": "markdown",
      "source": [],
      "metadata": {
        "id": "ygJM9qePSdS0"
      }
    },
    {
      "cell_type": "code",
      "source": [
        "# !pip install opencv-python pytesseract gTTS moviepy\n",
        "# !sudo apt install tesseract-ocr\n"
      ],
      "metadata": {
        "colab": {
          "base_uri": "https://localhost:8080/"
        },
        "id": "cWpUs_jSSd8t",
        "outputId": "63567404-c4ee-4f83-b657-1a3dc9baa1ef"
      },
      "execution_count": 127,
      "outputs": [
        {
          "output_type": "stream",
          "name": "stdout",
          "text": [
            "Requirement already satisfied: opencv-python in /usr/local/lib/python3.11/dist-packages (4.11.0.86)\n",
            "Requirement already satisfied: pytesseract in /usr/local/lib/python3.11/dist-packages (0.3.13)\n",
            "Requirement already satisfied: gTTS in /usr/local/lib/python3.11/dist-packages (2.5.4)\n",
            "Requirement already satisfied: moviepy in /usr/local/lib/python3.11/dist-packages (1.0.3)\n",
            "Requirement already satisfied: numpy>=1.21.2 in /usr/local/lib/python3.11/dist-packages (from opencv-python) (2.3.1)\n",
            "Requirement already satisfied: packaging>=21.3 in /usr/local/lib/python3.11/dist-packages (from pytesseract) (24.2)\n",
            "Requirement already satisfied: Pillow>=8.0.0 in /usr/local/lib/python3.11/dist-packages (from pytesseract) (11.2.1)\n",
            "Requirement already satisfied: requests<3,>=2.27 in /usr/local/lib/python3.11/dist-packages (from gTTS) (2.32.3)\n",
            "Requirement already satisfied: click<8.2,>=7.1 in /usr/local/lib/python3.11/dist-packages (from gTTS) (8.1.8)\n",
            "Requirement already satisfied: decorator<5.0,>=4.0.2 in /usr/local/lib/python3.11/dist-packages (from moviepy) (4.4.2)\n",
            "Requirement already satisfied: tqdm<5.0,>=4.11.2 in /usr/local/lib/python3.11/dist-packages (from moviepy) (4.67.1)\n",
            "Requirement already satisfied: proglog<=1.0.0 in /usr/local/lib/python3.11/dist-packages (from moviepy) (0.1.12)\n",
            "Requirement already satisfied: imageio<3.0,>=2.5 in /usr/local/lib/python3.11/dist-packages (from moviepy) (2.37.0)\n",
            "Requirement already satisfied: imageio-ffmpeg>=0.2.0 in /usr/local/lib/python3.11/dist-packages (from moviepy) (0.6.0)\n",
            "Requirement already satisfied: charset-normalizer<4,>=2 in /usr/local/lib/python3.11/dist-packages (from requests<3,>=2.27->gTTS) (3.4.2)\n",
            "Requirement already satisfied: idna<4,>=2.5 in /usr/local/lib/python3.11/dist-packages (from requests<3,>=2.27->gTTS) (3.10)\n",
            "Requirement already satisfied: urllib3<3,>=1.21.1 in /usr/local/lib/python3.11/dist-packages (from requests<3,>=2.27->gTTS) (2.4.0)\n",
            "Requirement already satisfied: certifi>=2017.4.17 in /usr/local/lib/python3.11/dist-packages (from requests<3,>=2.27->gTTS) (2025.6.15)\n",
            "Reading package lists... Done\n",
            "Building dependency tree... Done\n",
            "Reading state information... Done\n",
            "tesseract-ocr is already the newest version (4.1.1-2.1build1).\n",
            "0 upgraded, 0 newly installed, 0 to remove and 36 not upgraded.\n"
          ]
        }
      ]
    },
    {
      "cell_type": "code",
      "source": [
        "# import cv2\n",
        "# import pytesseract\n",
        "# from gtts import gTTS\n",
        "# from moviepy.editor import *\n",
        "\n",
        "# # Load video\n",
        "# video_path = \"/content/media/videos/pythagoras_scene/480p15/PythagoreanTheoremScene.mp4\"\n",
        "# video = cv2.VideoCapture(video_path)\n",
        "\n",
        "# frame_texts = []\n",
        "# frame_interval = 30  # Extract 1 frame per second for 30 fps\n",
        "\n",
        "# frame_count = 0\n",
        "# success = True\n",
        "\n",
        "# while success:\n",
        "#     success, frame = video.read()\n",
        "#     if not success:\n",
        "#         break\n",
        "\n",
        "#     if frame_count % frame_interval == 0:\n",
        "#         # OCR on frame\n",
        "#         gray = cv2.cvtColor(frame, cv2.COLOR_BGR2GRAY)\n",
        "#         text = pytesseract.image_to_string(gray)\n",
        "#         cleaned = text.strip()\n",
        "#         if cleaned:\n",
        "#             frame_texts.append(cleaned)\n",
        "\n",
        "#     frame_count += 1\n",
        "\n",
        "# video.release()\n",
        "\n",
        "# # Join all text\n",
        "# full_text = \"\\n\".join(frame_texts)\n",
        "# print(\"📝 Extracted Text:\\n\", full_text)\n"
      ],
      "metadata": {
        "colab": {
          "base_uri": "https://localhost:8080/"
        },
        "id": "a2g9oecwSmaK",
        "outputId": "2b8f9a81-e242-4c60-ab10-0e63f497d696"
      },
      "execution_count": 128,
      "outputs": [
        {
          "output_type": "stream",
          "name": "stdout",
          "text": [
            "📝 Extracted Text:\n",
            " The Pythagorean Theorem\n",
            "The Pythagorean Theorem\n",
            "\n",
            "A Fundamental Principle in Geometry\n",
            "Definition\n",
            "Pythagorean Theorem applies only to right-angled triangl\n",
            "Definition\n",
            "Pythagorean Theorem applies only to right-angled triangl\n",
            "T-Sh oe Ro)\n",
            "Pythagorean Theorem applies only to right-angled triangl\n",
            "Formal Statement\n",
            "\n",
            "[n a right-angled triangle, the square of the hypotenuse\n",
            "is equal to the sum of the squares of the other two sides\n",
            "Formal Statement\n",
            "\n",
            "[n a right-angled triangle, the square of the hypotenuse\n",
            "is equal to the sum of the squares of the other two sides\n",
            "\n",
            "c2 = a? + b?\n",
            "Significance & Applications\n",
            "\n",
            "The Pythagorean Theorem is used to:\n",
            "- Calculate distances\n",
            "\n",
            "- Design buildings\n",
            "\n",
            "- Solve navigation problems\n",
            "\n",
            "- Analyze real-life right triangles\n",
            "Significance & Applications\n",
            "\n",
            "The Pythagorean Theorem is used to:\n",
            "- Calculate distances\n",
            "\n",
            "- Design buildings\n",
            "\n",
            "- Solve navigation problems\n",
            "\n",
            "- Analyze real-life right triangles\n",
            "Example Problem\n",
            "Given a right-angled triangle with sides:\n",
            "a = 3 units, b = 4 units\n",
            "Find the length of the hypotenuse c.\n",
            "Example Problem\n",
            "\n",
            "(CAV b-angled triangle with sides:\n",
            "a= 3 un b = 4 units\n",
            "Find the h. of the hypotenuse c.\n",
            "Example Problem\n",
            "\n",
            "  \n",
            "\n",
            "Given a fight-angled triangle with sides:\n",
            "a>z3 units, b= 4 units\n",
            "ann the| length 6f?the hypotenuse c.\n",
            "Example Problem\n",
            "\n",
            "  \n",
            "\n",
            "Given a fight-angled triangle with sides:\n",
            "a>z3 units, b= 4 units\n",
            "an the| length 6f?the hypotenuse c.\n",
            "Step-by-Step Solution\n",
            "Step 1: Write the formula\n",
            "Step-by-Step Solution\n",
            "Step 1: Write the formula\n",
            "c2 = a? + b?\n",
            "Step-by-Step Solution\n",
            "Step-by-Step Solution\n",
            "Step 2: Substitute the values\n",
            "Step-by-Step Solution\n",
            "Step 2: Substitute the values\n",
            "c2 = 32 + 42\n",
            "Step-by-Step Solution\n",
            "Step 3: Calculate the squares\n",
            "Step-by-Step Solution\n",
            "Step 3: Calculate the squares\n",
            "c? = 9 + 16\n",
            "Step-by-Step Solution\n",
            "Step-by-Step Solution\n",
            "Step 4: Add the results\n",
            "Step-by-Step Solution\n",
            "Step 4: Add the results\n",
            "c* = 25\n",
            "Step-by-Step Solution\n",
            "Step 5: Take the square root\n",
            "Step-by-Step Solution\n",
            "Step 5: Take the square root\n",
            "c=5\n",
            "Step-by-Step Solution\n",
            "Step 5: Take the square root\n",
            "c=5\n",
            "Visual Confirmation\n",
            "ual Confirmation\n",
            "ual Confirmation\n",
            "Summary\n",
            "\n",
            "thagorean Theorem relates the sides of a right-angled tri\n",
            "2 + p2\n",
            "widely used in mathematics and real life.\n",
            "Summary\n",
            "\n",
            "thagorean Theorem relates the sides of a right-angled tri\n",
            "2 + p2\n",
            "widely used in mathematics and real life.\n",
            "Thank you for watching!\n",
            "Thank you for watching!\n"
          ]
        }
      ]
    },
    {
      "cell_type": "code",
      "source": [
        "# tts = gTTS(full_text)\n",
        "# tts.save(\"video_text_audio.mp3\")\n"
      ],
      "metadata": {
        "id": "HaARBxrmSzAK"
      },
      "execution_count": 129,
      "outputs": []
    },
    {
      "cell_type": "code",
      "source": [
        "# video_clip = VideoFileClip(\"/content/media/videos/pythagoras_scene/480p15/PythagoreanTheoremScene.mp4\")\n",
        "# audio_clip = AudioFileClip(\"video_text_audio.mp3\")\n",
        "\n",
        "# final = video_clip.set_audio(audio_clip)\n",
        "# final.write_videofile(\"output_video_with_narration.mp4\")\n"
      ],
      "metadata": {
        "colab": {
          "base_uri": "https://localhost:8080/"
        },
        "id": "QrXN4Py7S36S",
        "outputId": "e95b1d40-0963-4998-9318-dbc1c60455f9"
      },
      "execution_count": 130,
      "outputs": [
        {
          "output_type": "stream",
          "name": "stdout",
          "text": [
            "Moviepy - Building video output_video_with_narration.mp4.\n",
            "MoviePy - Writing audio in output_video_with_narrationTEMP_MPY_wvf_snd.mp3\n"
          ]
        },
        {
          "output_type": "stream",
          "name": "stderr",
          "text": []
        },
        {
          "output_type": "stream",
          "name": "stdout",
          "text": [
            "MoviePy - Done.\n",
            "Moviepy - Writing video output_video_with_narration.mp4\n",
            "\n"
          ]
        },
        {
          "output_type": "stream",
          "name": "stderr",
          "text": []
        },
        {
          "output_type": "stream",
          "name": "stdout",
          "text": [
            "Moviepy - Done !\n",
            "Moviepy - video ready output_video_with_narration.mp4\n"
          ]
        }
      ]
    }
  ]
}